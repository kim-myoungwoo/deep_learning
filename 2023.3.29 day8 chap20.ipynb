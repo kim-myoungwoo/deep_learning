{
 "cells": [
  {
   "cell_type": "markdown",
   "id": "45ec7848",
   "metadata": {},
   "source": [
    "# chap20 전이학습을 통한 딥러닝의 성능 극대화"
   ]
  },
  {
   "cell_type": "markdown",
   "id": "59df6779",
   "metadata": {},
   "source": [
    "## 1. 소규모 데이터셋이로 만드는 강력한 학습모델"
   ]
  },
  {
   "cell_type": "code",
   "execution_count": 1,
   "id": "0207920a",
   "metadata": {},
   "outputs": [],
   "source": [
    "from tensorflow.keras.models import Sequential\n",
    "from tensorflow.keras.layers import Dense, Activation, Flatten, Dropout, Conv2D, MaxPooling2D\n",
    "from tensorflow.keras.preprocessing.image import ImageDataGenerator\n",
    "from tensorflow.keras.callbacks import EarlyStopping\n",
    "from tensorflow.keras import optimizers\n",
    "\n",
    "import numpy as np\n",
    "import matplotlib.pyplot as plt"
   ]
  },
  {
   "cell_type": "code",
   "execution_count": 2,
   "id": "520aacd0",
   "metadata": {},
   "outputs": [
    {
     "name": "stdout",
     "output_type": "stream",
     "text": [
      "Found 160 images belonging to 2 classes.\n",
      "Found 120 images belonging to 2 classes.\n"
     ]
    }
   ],
   "source": [
    "# 기존의 이미지의 갯수를 늘리는 작업 : 데이터 전처리\n",
    "train_datagen=ImageDataGenerator(rescale=1./255,   # 정규화\n",
    "                   horizontal_flip=True, # 수평으로 뒤집기\n",
    "                   width_shift_range=0.1, # 수평이동\n",
    "                   height_shift_range=0.1, # 수직이동\n",
    "                   fill_mode='nearest')  # 빈 공간 채우는 방법\n",
    "test_datagen = ImageDataGenerator(rescale=1./255)\n",
    "\n",
    "train_generator= train_datagen.flow_from_directory('./data/data/chap20-data/train',   # 학습셋이 있는 폴더의 위치\n",
    "                                                target_size=(150,150), batch_size=5, class_mode='binary')\n",
    "\n",
    "test_generator= test_datagen.flow_from_directory('./data/data/chap20-data/test',   # 학습셋이 있는 폴더의 위치\n",
    "                                                target_size=(150,150), batch_size=5, class_mode='binary')"
   ]
  },
  {
   "cell_type": "code",
   "execution_count": 3,
   "id": "bb32e4c2",
   "metadata": {},
   "outputs": [
    {
     "name": "stdout",
     "output_type": "stream",
     "text": [
      "Model: \"sequential\"\n",
      "_________________________________________________________________\n",
      " Layer (type)                Output Shape              Param #   \n",
      "=================================================================\n",
      " conv2d (Conv2D)             (None, 148, 148, 32)      896       \n",
      "                                                                 \n",
      " activation (Activation)     (None, 148, 148, 32)      0         \n",
      "                                                                 \n",
      " max_pooling2d (MaxPooling2D  (None, 74, 74, 32)       0         \n",
      " )                                                               \n",
      "                                                                 \n",
      " conv2d_1 (Conv2D)           (None, 72, 72, 32)        9248      \n",
      "                                                                 \n",
      " activation_1 (Activation)   (None, 72, 72, 32)        0         \n",
      "                                                                 \n",
      " max_pooling2d_1 (MaxPooling  (None, 36, 36, 32)       0         \n",
      " 2D)                                                             \n",
      "                                                                 \n",
      " conv2d_2 (Conv2D)           (None, 34, 34, 64)        18496     \n",
      "                                                                 \n",
      " activation_2 (Activation)   (None, 34, 34, 64)        0         \n",
      "                                                                 \n",
      " max_pooling2d_2 (MaxPooling  (None, 17, 17, 64)       0         \n",
      " 2D)                                                             \n",
      "                                                                 \n",
      " flatten (Flatten)           (None, 18496)             0         \n",
      "                                                                 \n",
      " dense (Dense)               (None, 64)                1183808   \n",
      "                                                                 \n",
      " activation_3 (Activation)   (None, 64)                0         \n",
      "                                                                 \n",
      " dropout (Dropout)           (None, 64)                0         \n",
      "                                                                 \n",
      " dense_1 (Dense)             (None, 1)                 65        \n",
      "                                                                 \n",
      " activation_4 (Activation)   (None, 1)                 0         \n",
      "                                                                 \n",
      "=================================================================\n",
      "Total params: 1,212,513\n",
      "Trainable params: 1,212,513\n",
      "Non-trainable params: 0\n",
      "_________________________________________________________________\n"
     ]
    }
   ],
   "source": [
    "# CNN 모델 적용\n",
    "model = Sequential()\n",
    "model.add(Conv2D(32, kernel_size=3, input_shape=(150,150,3)))\n",
    "model.add(Activation('relu'))\n",
    "model.add(MaxPooling2D(pool_size=(2,2)))\n",
    "\n",
    "model.add(Conv2D(32,(3,3)))\n",
    "model.add(Activation('relu'))\n",
    "model.add(MaxPooling2D(pool_size=(2,2)))\n",
    "\n",
    "model.add(Conv2D(64, (3,3)))\n",
    "model.add(Activation('relu'))\n",
    "model.add(MaxPooling2D(pool_size=(2,2)))\n",
    "\n",
    "model.add(Flatten())\n",
    "model.add(Dense(64))\n",
    "model.add(Activation('relu'))\n",
    "model.add(Dropout(0.5))\n",
    "model.add(Dense(1))\n",
    "model.add(Activation('sigmoid'))\n",
    "\n",
    "model.summary()"
   ]
  },
  {
   "cell_type": "code",
   "execution_count": 4,
   "id": "32da7bcc",
   "metadata": {},
   "outputs": [],
   "source": [
    "# 모델 옵션 설정\n",
    "model.compile(loss='binary_crossentropy', optimizer=optimizers.Adam(learning_rate=0.0002), metrics=['accuracy'])\n",
    "\n",
    "early_stopping = EarlyStopping(monitor='val_loss', patience=5)"
   ]
  },
  {
   "cell_type": "code",
   "execution_count": 5,
   "id": "3bf0628c",
   "metadata": {},
   "outputs": [
    {
     "name": "stdout",
     "output_type": "stream",
     "text": [
      "Epoch 1/100\n",
      "32/32 [==============================] - 7s 175ms/step - loss: 0.6943 - accuracy: 0.4875 - val_loss: 0.6893 - val_accuracy: 0.8200\n",
      "Epoch 2/100\n",
      "32/32 [==============================] - 3s 91ms/step - loss: 0.6908 - accuracy: 0.5500 - val_loss: 0.6915 - val_accuracy: 0.4400\n",
      "Epoch 3/100\n",
      "32/32 [==============================] - 3s 90ms/step - loss: 0.6978 - accuracy: 0.4563 - val_loss: 0.6850 - val_accuracy: 0.7000\n",
      "Epoch 4/100\n",
      "32/32 [==============================] - 3s 87ms/step - loss: 0.6866 - accuracy: 0.5312 - val_loss: 0.6908 - val_accuracy: 0.4000\n",
      "Epoch 5/100\n",
      "32/32 [==============================] - 3s 87ms/step - loss: 0.6891 - accuracy: 0.5250 - val_loss: 0.6609 - val_accuracy: 0.8600\n",
      "Epoch 6/100\n",
      "32/32 [==============================] - 3s 84ms/step - loss: 0.6824 - accuracy: 0.6125 - val_loss: 0.6808 - val_accuracy: 0.4600\n",
      "Epoch 7/100\n",
      "32/32 [==============================] - 3s 84ms/step - loss: 0.6670 - accuracy: 0.6438 - val_loss: 0.6229 - val_accuracy: 0.7400\n",
      "Epoch 8/100\n",
      "32/32 [==============================] - 3s 85ms/step - loss: 0.6160 - accuracy: 0.7312 - val_loss: 0.5756 - val_accuracy: 0.8200\n",
      "Epoch 9/100\n",
      "32/32 [==============================] - 3s 84ms/step - loss: 0.5986 - accuracy: 0.6500 - val_loss: 0.5995 - val_accuracy: 0.7000\n",
      "Epoch 10/100\n",
      "32/32 [==============================] - 3s 86ms/step - loss: 0.6414 - accuracy: 0.6438 - val_loss: 0.5697 - val_accuracy: 0.8600\n",
      "Epoch 11/100\n",
      "32/32 [==============================] - 3s 85ms/step - loss: 0.5505 - accuracy: 0.7625 - val_loss: 0.6129 - val_accuracy: 0.6200\n",
      "Epoch 12/100\n",
      "32/32 [==============================] - 3s 85ms/step - loss: 0.5237 - accuracy: 0.7500 - val_loss: 0.4129 - val_accuracy: 0.8200\n",
      "Epoch 13/100\n",
      "32/32 [==============================] - 3s 85ms/step - loss: 0.4200 - accuracy: 0.8500 - val_loss: 0.3523 - val_accuracy: 0.8600\n",
      "Epoch 14/100\n",
      "32/32 [==============================] - 3s 84ms/step - loss: 0.3904 - accuracy: 0.8313 - val_loss: 0.2680 - val_accuracy: 0.9400\n",
      "Epoch 15/100\n",
      "32/32 [==============================] - 3s 84ms/step - loss: 0.3401 - accuracy: 0.8750 - val_loss: 0.4621 - val_accuracy: 0.7400\n",
      "Epoch 16/100\n",
      "32/32 [==============================] - 3s 86ms/step - loss: 0.3481 - accuracy: 0.8687 - val_loss: 0.2652 - val_accuracy: 0.9000\n",
      "Epoch 17/100\n",
      "32/32 [==============================] - 3s 86ms/step - loss: 0.2344 - accuracy: 0.9062 - val_loss: 0.1848 - val_accuracy: 0.9600\n",
      "Epoch 18/100\n",
      "32/32 [==============================] - 3s 84ms/step - loss: 0.2533 - accuracy: 0.8938 - val_loss: 0.1718 - val_accuracy: 0.9600\n",
      "Epoch 19/100\n",
      "32/32 [==============================] - 3s 85ms/step - loss: 0.2427 - accuracy: 0.9250 - val_loss: 0.1037 - val_accuracy: 0.9800\n",
      "Epoch 20/100\n",
      "32/32 [==============================] - 3s 84ms/step - loss: 0.1708 - accuracy: 0.9500 - val_loss: 0.0932 - val_accuracy: 0.9800\n",
      "Epoch 21/100\n",
      "32/32 [==============================] - 3s 86ms/step - loss: 0.1935 - accuracy: 0.9375 - val_loss: 0.1125 - val_accuracy: 0.9600\n",
      "Epoch 22/100\n",
      "32/32 [==============================] - 3s 85ms/step - loss: 0.1741 - accuracy: 0.9438 - val_loss: 0.0783 - val_accuracy: 0.9800\n",
      "Epoch 23/100\n",
      "32/32 [==============================] - 3s 86ms/step - loss: 0.1745 - accuracy: 0.9500 - val_loss: 0.2013 - val_accuracy: 0.9000\n",
      "Epoch 24/100\n",
      "32/32 [==============================] - 3s 86ms/step - loss: 0.1535 - accuracy: 0.9375 - val_loss: 0.1101 - val_accuracy: 0.9800\n",
      "Epoch 25/100\n",
      "32/32 [==============================] - 3s 85ms/step - loss: 0.1484 - accuracy: 0.9625 - val_loss: 0.1738 - val_accuracy: 0.9400\n",
      "Epoch 26/100\n",
      "32/32 [==============================] - 3s 86ms/step - loss: 0.1389 - accuracy: 0.9688 - val_loss: 0.2114 - val_accuracy: 0.8800\n",
      "Epoch 27/100\n",
      "32/32 [==============================] - 3s 86ms/step - loss: 0.1717 - accuracy: 0.9187 - val_loss: 0.1273 - val_accuracy: 0.9400\n"
     ]
    }
   ],
   "source": [
    "history=model.fit(train_generator, epochs=100, validation_data=test_generator, validation_steps=10, callbacks=[early_stopping])"
   ]
  },
  {
   "cell_type": "code",
   "execution_count": 6,
   "id": "77545197",
   "metadata": {
    "scrolled": false
   },
   "outputs": [
    {
     "data": {
      "image/png": "[encoded data removed]",
      "text/plain": [
       "<Figure size 640x480 with 1 Axes>"
      ]
     },
     "metadata": {},
     "output_type": "display_data"
    }
   ],
   "source": [
    "y_vloss = history.history['val_loss']\n",
    "y_loss = history.history['loss']\n",
    "\n",
    "x_len= np.arange(len(y_loss))\n",
    "plt.plot(x_len, y_vloss, marker='.', c='red', label='testset_loss')\n",
    "plt.plot(x_len, y_loss, marker='.', c='blue', label='trainset.loss')\n",
    "\n",
    "plt.legend(loc='upper right')\n",
    "plt.xlabel('epoch')\n",
    "plt.ylabel('loss')\n",
    "plt.show()"
   ]
  }
 ],
 "metadata": {
  "kernelspec": {
   "display_name": "py3.8",
   "language": "python",
   "name": "py3.8"
  },
  "language_info": {
   "codemirror_mode": {
    "name": "ipython",
    "version": 3
   },
   "file_extension": ".py",
   "mimetype": "text/x-python",
   "name": "python",
   "nbconvert_exporter": "python",
   "pygments_lexer": "ipython3",
   "version": "3.8.16"
  }
 },
 "nbformat": 4,
 "nbformat_minor": 5
}
