{
 "cells": [
  {
   "cell_type": "code",
   "execution_count": 4,
   "id": "1c9b5fb5",
   "metadata": {},
   "outputs": [],
   "source": [
    "# 배치 정규화, 이미지 확대, DCGAN\n",
    "from tensorflow.keras.models import Sequential, Model\n",
    "from tensorflow.keras.layers import Dense, Reshape, Input, Flatten, Dropout, BatchNormalization, Activation, LeakyReLU, UpSampling2D, Conv2D"
   ]
  },
  {
   "cell_type": "code",
   "execution_count": 5,
   "id": "10544d81",
   "metadata": {},
   "outputs": [],
   "source": [
    "import numpy as np\n",
    "import matplotlib.pyplot as plt"
   ]
  },
  {
   "cell_type": "code",
   "execution_count": 6,
   "id": "bef21a08",
   "metadata": {},
   "outputs": [],
   "source": [
    "# 생성자 모델 생성\n",
    "generator = Sequential()\n",
    "generator.add(Dense(128*7*7, input_dim=100, activation=LeakyReLU(0.2)))  # 입력층 -> layer 1\n",
    "generator.add(BatchNormalization())  # 배치 정규화 :  평균이 0, 분산이 1 인 데이터로 재배치\n",
    "generator.add(Reshape((7,7,128)))     # 3차원으로 데이터 타입 변경\n",
    "generator.add(UpSampling2D())     # 이미지를 2배로 확장 시킴 ( 14,14,128)\n",
    "generator.add(Conv2D(64, kernel_size=5, padding='same'))  # padding='same', 이미지 사이즈 줄지 않음\n",
    "generator.add(BatchNormalization())   # 배치 정규화\n",
    "generator.add(Activation(LeakyReLU(0.2)))  # 활성화 함수 추가\n",
    "generator.add(UpSampling2D())     # 이미지 확대 : (28,28,128)\n",
    "generator.add(Conv2D(1, kernel_size=5, padding ='same', activation='tanh')) # 최종 가짜 이미지 생성"
   ]
  },
  {
   "cell_type": "code",
   "execution_count": 8,
   "id": "42a39e9a",
   "metadata": {},
   "outputs": [],
   "source": [
    "# 판별자 모델 생성\n",
    "discriminator = Sequential()\n",
    "discriminator.add(Conv2D(64, kernel_size=5, strides=2, input_shape=(28,28,1), padding='same'))  # CNN 같은 사이즈\n",
    "discriminator.add(Activation(LeakyReLU(0.2)))  # 활성화 함수\n",
    "discriminator.add(Dropout(0.3)) # 과적합 방지\n",
    "discriminator.add(Conv2D(128, kernel_size=5, strides=2, padding='same'))  # CNN  같은 사이즈\n",
    "discriminator.add(Activation(LeakyReLU(0.2)))  # 활성화 함수\n",
    "discriminator.add(Dropout(0.3)) # 과적합 방지\n",
    "discriminator.add(Flatten())\n",
    "discriminator.add(Dense(1, activation='sigmoid'))\n",
    "discriminator.compile(loss='binary_crossentropy', optimizer='adam')\n",
    "discriminator.trainable = False  # 학습하지 않음"
   ]
  }
 ],
 "metadata": {
  "kernelspec": {
   "display_name": "py3.8",
   "language": "python",
   "name": "py3.8"
  },
  "language_info": {
   "codemirror_mode": {
    "name": "ipython",
    "version": 3
   },
   "file_extension": ".py",
   "mimetype": "text/x-python",
   "name": "python",
   "nbconvert_exporter": "python",
   "pygments_lexer": "ipython3",
   "version": "3.8.16"
  }
 },
 "nbformat": 4,
 "nbformat_minor": 5
}
