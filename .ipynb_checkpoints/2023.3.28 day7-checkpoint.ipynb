{
 "cells": [
  {
   "cell_type": "code",
   "execution_count": 1,
   "id": "758e46d3",
   "metadata": {},
   "outputs": [],
   "source": [
    "# 로이터 뉴스 데이터 로드를 함\n",
    "from tensorflow.keras.datasets import reuters\n",
    "\n",
    "# num_words = 1000 -> 단어의 빈도수가 1~1000 사이의 단어만 가져옴\n",
    "(X_train, y_train), (X_test, y_test) = reuters.load_data(num_words=1000, test_split=0.2)"
   ]
  },
  {
   "cell_type": "code",
   "execution_count": 2,
   "id": "7fec62f6",
   "metadata": {},
   "outputs": [
    {
     "name": "stdout",
     "output_type": "stream",
     "text": [
      "(8982,) (2246,) 11228\n"
     ]
    }
   ],
   "source": [
    "print(X_train.shape, X_test.shape, X_train.shape[0]+X_test.shape[0])"
   ]
  },
  {
   "cell_type": "code",
   "execution_count": 3,
   "id": "0d730409",
   "metadata": {},
   "outputs": [
    {
     "name": "stdout",
     "output_type": "stream",
     "text": [
      "46\n"
     ]
    }
   ],
   "source": [
    "import numpy as np\n",
    "\n",
    "print(len(np.unique(y_train)))   #  46개의 카테고리 확인"
   ]
  },
  {
   "cell_type": "code",
   "execution_count": 4,
   "id": "9da96af9",
   "metadata": {},
   "outputs": [],
   "source": [
    "# X_train 학습용 기사, y_train 뉴스의 카테고리 (48개 존재)\n",
    "from tensorflow.keras.preprocessing import sequence"
   ]
  },
  {
   "cell_type": "code",
   "execution_count": 5,
   "id": "3719ae90",
   "metadata": {},
   "outputs": [],
   "source": [
    "X_train = sequence.pad_sequences(X_train, maxlen=100)\n",
    "X_test = sequence.pad_sequences(X_test, maxlen=100)"
   ]
  },
  {
   "cell_type": "code",
   "execution_count": 6,
   "id": "8258195d",
   "metadata": {},
   "outputs": [
    {
     "data": {
      "text/plain": [
       "(8982, 100)"
      ]
     },
     "execution_count": 6,
     "metadata": {},
     "output_type": "execute_result"
    }
   ],
   "source": [
    "X_train.shape"
   ]
  },
  {
   "cell_type": "code",
   "execution_count": 7,
   "id": "d3abb7a4",
   "metadata": {},
   "outputs": [
    {
     "data": {
      "text/plain": [
       "(8982, 46)"
      ]
     },
     "execution_count": 7,
     "metadata": {},
     "output_type": "execute_result"
    }
   ],
   "source": [
    "# y_train -> one-hot encoding\n",
    "from tensorflow.keras.utils import to_categorical\n",
    "\n",
    "y = to_categorical(y_train)\n",
    "y.shape"
   ]
  },
  {
   "cell_type": "code",
   "execution_count": 20,
   "id": "c565a5e9",
   "metadata": {},
   "outputs": [],
   "source": [
    "# 데이터를 가지고 와서 기사마다 단어 수 맞춤 -> pad_sequences(X_train, maxlen=100)\n",
    "# 모델 설정\n",
    "from tensorflow.keras.models import Sequential\n",
    "from tensorflow.keras.layers import Dense, Embedding, LSTM\n",
    "from tensorflow.keras.callbacks import EarlyStopping\n",
    "from attention import Attention"
   ]
  },
  {
   "cell_type": "code",
   "execution_count": 21,
   "id": "ed45872d",
   "metadata": {
    "scrolled": true
   },
   "outputs": [
    {
     "ename": "ValueError",
     "evalue": "Exception encountered when calling layer \"attention\" (type Attention).\n\nin user code:\n\n    File \"C:\\Users\\82103\\anaconda3\\envs\\py3.8\\lib\\site-packages\\attention\\attention.py\", line 89, in call  *\n        h_t = self.h_t(h_s)\n    File \"C:\\Users\\82103\\anaconda3\\envs\\py3.8\\lib\\site-packages\\keras\\utils\\traceback_utils.py\", line 70, in error_handler  **\n        raise e.with_traceback(filtered_tb) from None\n    File \"C:\\Users\\82103\\anaconda3\\envs\\py3.8\\lib\\site-packages\\attention\\attention.py\", line 48, in <lambda>\n        self.h_t = Lambda(lambda x: x[:, -1, :], output_shape=(input_dim,), name='last_hidden_state')\n\n    ValueError: Exception encountered when calling layer 'last_hidden_state' (type Lambda).\n    \n    Index out of range using input dim 2; input has only 2 dims for '{{node attention/last_hidden_state/strided_slice}} = StridedSlice[Index=DT_INT32, T=DT_FLOAT, begin_mask=5, ellipsis_mask=0, end_mask=5, new_axis_mask=0, shrink_axis_mask=2](Placeholder, attention/last_hidden_state/strided_slice/stack, attention/last_hidden_state/strided_slice/stack_1, attention/last_hidden_state/strided_slice/stack_2)' with input shapes: [?,100], [3], [3], [3] and with computed input tensors: input[3] = <1 1 1>.\n    \n    Call arguments received by layer 'last_hidden_state' (type Lambda):\n      • inputs=tf.Tensor(shape=(None, 100), dtype=float32)\n      • mask=None\n      • training=None\n\n\nCall arguments received by layer \"attention\" (type Attention):\n  • inputs=tf.Tensor(shape=(None, 100), dtype=float32)\n  • training=None\n  • kwargs=<class 'inspect._empty'>",
     "output_type": "error",
     "traceback": [
      "\u001b[1;31m---------------------------------------------------------------------------\u001b[0m",
      "\u001b[1;31mValueError\u001b[0m                                Traceback (most recent call last)",
      "Cell \u001b[1;32mIn[21], line 4\u001b[0m\n\u001b[0;32m      2\u001b[0m model\u001b[38;5;241m.\u001b[39madd(Embedding(\u001b[38;5;241m1000\u001b[39m, \u001b[38;5;241m100\u001b[39m)) \u001b[38;5;66;03m# 1000, 기사당 단어수 100\u001b[39;00m\n\u001b[0;32m      3\u001b[0m model\u001b[38;5;241m.\u001b[39madd(LSTM(\u001b[38;5;241m100\u001b[39m, activation\u001b[38;5;241m=\u001b[39m\u001b[38;5;124m'\u001b[39m\u001b[38;5;124mtanh\u001b[39m\u001b[38;5;124m'\u001b[39m))  \u001b[38;5;66;03m# LSTM 으로 RNN 구현\u001b[39;00m\n\u001b[1;32m----> 4\u001b[0m \u001b[43mmodel\u001b[49m\u001b[38;5;241;43m.\u001b[39;49m\u001b[43madd\u001b[49m\u001b[43m(\u001b[49m\u001b[43mAttention\u001b[49m\u001b[43m(\u001b[49m\u001b[43m)\u001b[49m\u001b[43m)\u001b[49m\n\u001b[0;32m      5\u001b[0m model\u001b[38;5;241m.\u001b[39madd(Dense(\u001b[38;5;241m46\u001b[39m, activation\u001b[38;5;241m=\u001b[39m\u001b[38;5;124m'\u001b[39m\u001b[38;5;124msoftmax\u001b[39m\u001b[38;5;124m'\u001b[39m))\n\u001b[0;32m      7\u001b[0m model\u001b[38;5;241m.\u001b[39msummary()\n",
      "File \u001b[1;32m~\\anaconda3\\envs\\py3.8\\lib\\site-packages\\tensorflow\\python\\trackable\\base.py:205\u001b[0m, in \u001b[0;36mno_automatic_dependency_tracking.<locals>._method_wrapper\u001b[1;34m(self, *args, **kwargs)\u001b[0m\n\u001b[0;32m    203\u001b[0m \u001b[38;5;28mself\u001b[39m\u001b[38;5;241m.\u001b[39m_self_setattr_tracking \u001b[38;5;241m=\u001b[39m \u001b[38;5;28;01mFalse\u001b[39;00m  \u001b[38;5;66;03m# pylint: disable=protected-access\u001b[39;00m\n\u001b[0;32m    204\u001b[0m \u001b[38;5;28;01mtry\u001b[39;00m:\n\u001b[1;32m--> 205\u001b[0m   result \u001b[38;5;241m=\u001b[39m \u001b[43mmethod\u001b[49m\u001b[43m(\u001b[49m\u001b[38;5;28;43mself\u001b[39;49m\u001b[43m,\u001b[49m\u001b[43m \u001b[49m\u001b[38;5;241;43m*\u001b[39;49m\u001b[43margs\u001b[49m\u001b[43m,\u001b[49m\u001b[43m \u001b[49m\u001b[38;5;241;43m*\u001b[39;49m\u001b[38;5;241;43m*\u001b[39;49m\u001b[43mkwargs\u001b[49m\u001b[43m)\u001b[49m\n\u001b[0;32m    206\u001b[0m \u001b[38;5;28;01mfinally\u001b[39;00m:\n\u001b[0;32m    207\u001b[0m   \u001b[38;5;28mself\u001b[39m\u001b[38;5;241m.\u001b[39m_self_setattr_tracking \u001b[38;5;241m=\u001b[39m previous_value  \u001b[38;5;66;03m# pylint: disable=protected-access\u001b[39;00m\n",
      "File \u001b[1;32m~\\anaconda3\\envs\\py3.8\\lib\\site-packages\\keras\\utils\\traceback_utils.py:70\u001b[0m, in \u001b[0;36mfilter_traceback.<locals>.error_handler\u001b[1;34m(*args, **kwargs)\u001b[0m\n\u001b[0;32m     67\u001b[0m     filtered_tb \u001b[38;5;241m=\u001b[39m _process_traceback_frames(e\u001b[38;5;241m.\u001b[39m__traceback__)\n\u001b[0;32m     68\u001b[0m     \u001b[38;5;66;03m# To get the full stack trace, call:\u001b[39;00m\n\u001b[0;32m     69\u001b[0m     \u001b[38;5;66;03m# `tf.debugging.disable_traceback_filtering()`\u001b[39;00m\n\u001b[1;32m---> 70\u001b[0m     \u001b[38;5;28;01mraise\u001b[39;00m e\u001b[38;5;241m.\u001b[39mwith_traceback(filtered_tb) \u001b[38;5;28;01mfrom\u001b[39;00m \u001b[38;5;28mNone\u001b[39m\n\u001b[0;32m     71\u001b[0m \u001b[38;5;28;01mfinally\u001b[39;00m:\n\u001b[0;32m     72\u001b[0m     \u001b[38;5;28;01mdel\u001b[39;00m filtered_tb\n",
      "File \u001b[1;32m~\\anaconda3\\envs\\py3.8\\lib\\site-packages\\attention\\attention.py:73\u001b[0m, in \u001b[0;36mAttention.__call__\u001b[1;34m(self, inputs, training, **kwargs)\u001b[0m\n\u001b[0;32m     71\u001b[0m     \u001b[38;5;28;01mreturn\u001b[39;00m \u001b[38;5;28mself\u001b[39m\u001b[38;5;241m.\u001b[39mcall(inputs, training, \u001b[38;5;241m*\u001b[39m\u001b[38;5;241m*\u001b[39mkwargs)\n\u001b[0;32m     72\u001b[0m \u001b[38;5;28;01melse\u001b[39;00m:\n\u001b[1;32m---> 73\u001b[0m     \u001b[38;5;28;01mreturn\u001b[39;00m \u001b[38;5;28;43msuper\u001b[39;49m\u001b[43m(\u001b[49m\u001b[43mAttention\u001b[49m\u001b[43m,\u001b[49m\u001b[43m \u001b[49m\u001b[38;5;28;43mself\u001b[39;49m\u001b[43m)\u001b[49m\u001b[38;5;241;43m.\u001b[39;49m\u001b[38;5;21;43m__call__\u001b[39;49m\u001b[43m(\u001b[49m\u001b[43minputs\u001b[49m\u001b[43m,\u001b[49m\u001b[43m \u001b[49m\u001b[43mtraining\u001b[49m\u001b[43m,\u001b[49m\u001b[43m \u001b[49m\u001b[38;5;241;43m*\u001b[39;49m\u001b[38;5;241;43m*\u001b[39;49m\u001b[43mkwargs\u001b[49m\u001b[43m)\u001b[49m\n",
      "File \u001b[1;32m~\\AppData\\Local\\Temp\\__autograph_generated_filexaptew7q.py:25\u001b[0m, in \u001b[0;36mouter_factory.<locals>.inner_factory.<locals>.tf__call\u001b[1;34m(self, inputs, training, **kwargs)\u001b[0m\n\u001b[0;32m     23\u001b[0m     \u001b[38;5;28;01mpass\u001b[39;00m\n\u001b[0;32m     24\u001b[0m ag__\u001b[38;5;241m.\u001b[39mif_stmt(ag__\u001b[38;5;241m.\u001b[39mld(debug_flag), if_body, else_body, get_state, set_state, (), \u001b[38;5;241m0\u001b[39m)\n\u001b[1;32m---> 25\u001b[0m h_t \u001b[38;5;241m=\u001b[39m ag__\u001b[38;5;241m.\u001b[39mconverted_call(ag__\u001b[38;5;241m.\u001b[39mld(\u001b[38;5;28mself\u001b[39m)\u001b[38;5;241m.\u001b[39mh_t, (ag__\u001b[38;5;241m.\u001b[39mld(h_s),), \u001b[38;5;28;01mNone\u001b[39;00m, fscope)\n\u001b[0;32m     27\u001b[0m \u001b[38;5;28;01mdef\u001b[39;00m \u001b[38;5;21mget_state_1\u001b[39m():\n\u001b[0;32m     28\u001b[0m     \u001b[38;5;28;01mreturn\u001b[39;00m (score,)\n",
      "File \u001b[1;32m~\\anaconda3\\envs\\py3.8\\lib\\site-packages\\attention\\attention.py:48\u001b[0m, in \u001b[0;36mAttention.build.<locals>.<lambda>\u001b[1;34m(x)\u001b[0m\n\u001b[0;32m     45\u001b[0m     \u001b[38;5;28mself\u001b[39m\u001b[38;5;241m.\u001b[39mbahdanau_tanh \u001b[38;5;241m=\u001b[39m Activation(\u001b[38;5;124m'\u001b[39m\u001b[38;5;124mtanh\u001b[39m\u001b[38;5;124m'\u001b[39m, name\u001b[38;5;241m=\u001b[39m\u001b[38;5;124m'\u001b[39m\u001b[38;5;124mbahdanau_tanh\u001b[39m\u001b[38;5;124m'\u001b[39m)\n\u001b[0;32m     46\u001b[0m     \u001b[38;5;28mself\u001b[39m\u001b[38;5;241m.\u001b[39mbahdanau_add \u001b[38;5;241m=\u001b[39m Add()\n\u001b[1;32m---> 48\u001b[0m \u001b[38;5;28mself\u001b[39m\u001b[38;5;241m.\u001b[39mh_t \u001b[38;5;241m=\u001b[39m Lambda(\u001b[38;5;28;01mlambda\u001b[39;00m x: \u001b[43mx\u001b[49m\u001b[43m[\u001b[49m\u001b[43m:\u001b[49m\u001b[43m,\u001b[49m\u001b[43m \u001b[49m\u001b[38;5;241;43m-\u001b[39;49m\u001b[38;5;241;43m1\u001b[39;49m\u001b[43m,\u001b[49m\u001b[43m \u001b[49m\u001b[43m:\u001b[49m\u001b[43m]\u001b[49m, output_shape\u001b[38;5;241m=\u001b[39m(input_dim,), name\u001b[38;5;241m=\u001b[39m\u001b[38;5;124m'\u001b[39m\u001b[38;5;124mlast_hidden_state\u001b[39m\u001b[38;5;124m'\u001b[39m)\n\u001b[0;32m     50\u001b[0m \u001b[38;5;66;03m# exp / sum(exp) -> softmax.\u001b[39;00m\n\u001b[0;32m     51\u001b[0m \u001b[38;5;28mself\u001b[39m\u001b[38;5;241m.\u001b[39msoftmax_normalizer \u001b[38;5;241m=\u001b[39m Activation(\u001b[38;5;124m'\u001b[39m\u001b[38;5;124msoftmax\u001b[39m\u001b[38;5;124m'\u001b[39m, name\u001b[38;5;241m=\u001b[39m\u001b[38;5;124m'\u001b[39m\u001b[38;5;124mattention_weight\u001b[39m\u001b[38;5;124m'\u001b[39m)\n",
      "\u001b[1;31mValueError\u001b[0m: Exception encountered when calling layer \"attention\" (type Attention).\n\nin user code:\n\n    File \"C:\\Users\\82103\\anaconda3\\envs\\py3.8\\lib\\site-packages\\attention\\attention.py\", line 89, in call  *\n        h_t = self.h_t(h_s)\n    File \"C:\\Users\\82103\\anaconda3\\envs\\py3.8\\lib\\site-packages\\keras\\utils\\traceback_utils.py\", line 70, in error_handler  **\n        raise e.with_traceback(filtered_tb) from None\n    File \"C:\\Users\\82103\\anaconda3\\envs\\py3.8\\lib\\site-packages\\attention\\attention.py\", line 48, in <lambda>\n        self.h_t = Lambda(lambda x: x[:, -1, :], output_shape=(input_dim,), name='last_hidden_state')\n\n    ValueError: Exception encountered when calling layer 'last_hidden_state' (type Lambda).\n    \n    Index out of range using input dim 2; input has only 2 dims for '{{node attention/last_hidden_state/strided_slice}} = StridedSlice[Index=DT_INT32, T=DT_FLOAT, begin_mask=5, ellipsis_mask=0, end_mask=5, new_axis_mask=0, shrink_axis_mask=2](Placeholder, attention/last_hidden_state/strided_slice/stack, attention/last_hidden_state/strided_slice/stack_1, attention/last_hidden_state/strided_slice/stack_2)' with input shapes: [?,100], [3], [3], [3] and with computed input tensors: input[3] = <1 1 1>.\n    \n    Call arguments received by layer 'last_hidden_state' (type Lambda):\n      • inputs=tf.Tensor(shape=(None, 100), dtype=float32)\n      • mask=None\n      • training=None\n\n\nCall arguments received by layer \"attention\" (type Attention):\n  • inputs=tf.Tensor(shape=(None, 100), dtype=float32)\n  • training=None\n  • kwargs=<class 'inspect._empty'>"
     ]
    }
   ],
   "source": [
    "model = Sequential()\n",
    "model.add(Embedding(1000, 100)) # 1000, 기사당 단어수 100\n",
    "model.add(LSTM(100, activation='tanh'))  # LSTM 으로 RNN 구현\n",
    "# model.add(Attention())\n",
    "model.add(Dense(46, activation='softmax'))\n",
    "\n",
    "model.summary()\n",
    "\n",
    "model.compile(loss='sparse_categorical_crossentropy', optimizer='adam', metrics=['accuracy'])\n",
    "early_stopping = EarlyStopping(monitor='val_loss', patience=5)\n",
    "model.fit(X_train, y_train, epochs=200, batch_size=10, validation_data=(X_test, y_test), callbacks=[early_stopping])"
   ]
  },
  {
   "cell_type": "code",
   "execution_count": 10,
   "id": "2fb76fdc",
   "metadata": {},
   "outputs": [
    {
     "name": "stdout",
     "output_type": "stream",
     "text": [
      "71/71 [==============================] - 2s 27ms/step - loss: 1.2748 - accuracy: 0.7248\n",
      "test 데이터의 정확도 :  0.7248441576957703\n"
     ]
    }
   ],
   "source": [
    "print(\"test 데이터의 정확도 : \", model.evaluate(X_test, y_test)[1])"
   ]
  },
  {
   "cell_type": "code",
   "execution_count": 11,
   "id": "b03897ae",
   "metadata": {},
   "outputs": [
    {
     "ename": "KeyError",
     "evalue": "'loss'",
     "output_type": "error",
     "traceback": [
      "\u001b[1;31m---------------------------------------------------------------------------\u001b[0m",
      "\u001b[1;31mKeyError\u001b[0m                                  Traceback (most recent call last)",
      "Cell \u001b[1;32mIn[11], line 2\u001b[0m\n\u001b[0;32m      1\u001b[0m \u001b[38;5;66;03m# 학습셋과 테스트셋의 오차를 그래프로 확인\u001b[39;00m\n\u001b[1;32m----> 2\u001b[0m y_loss \u001b[38;5;241m=\u001b[39m \u001b[43mmodel\u001b[49m\u001b[38;5;241;43m.\u001b[39;49m\u001b[43mhistory\u001b[49m\u001b[38;5;241;43m.\u001b[39;49m\u001b[43mhistory\u001b[49m\u001b[43m[\u001b[49m\u001b[38;5;124;43m'\u001b[39;49m\u001b[38;5;124;43mloss\u001b[39;49m\u001b[38;5;124;43m'\u001b[39;49m\u001b[43m]\u001b[49m\n\u001b[0;32m      3\u001b[0m y_vloss \u001b[38;5;241m=\u001b[39m model\u001b[38;5;241m.\u001b[39mhistory\u001b[38;5;241m.\u001b[39mhistory[\u001b[38;5;124m'\u001b[39m\u001b[38;5;124mval_loss\u001b[39m\u001b[38;5;124m'\u001b[39m]\n\u001b[0;32m      5\u001b[0m x_len \u001b[38;5;241m=\u001b[39m np\u001b[38;5;241m.\u001b[39marange(\u001b[38;5;28mlen\u001b[39m(y_loss))\n",
      "\u001b[1;31mKeyError\u001b[0m: 'loss'"
     ]
    }
   ],
   "source": [
    "# 학습셋과 테스트셋의 오차를 그래프로 확인\n",
    "y_loss = model.history.history['loss']\n",
    "y_vloss = model.history.history['val_loss']\n",
    "\n",
    "x_len = np.arange(len(y_loss))   # x축 생성"
   ]
  },
  {
   "cell_type": "code",
   "execution_count": null,
   "id": "9de77c85",
   "metadata": {},
   "outputs": [],
   "source": [
    "import matplotlib.pyplot as plt\n",
    "\n",
    "plt.plot(x_len, y_vloss, marker='.', c='red', label='testset_loss')\n",
    "plt.plot(x_len, y_loss, marker='.', c='blue', label='trainset_loss')\n",
    "\n",
    "plt.legend()\n",
    "plt.xlabel('epoch')\n",
    "plt.ylabel('loss')\n",
    "plt.show()"
   ]
  },
  {
   "cell_type": "code",
   "execution_count": 12,
   "id": "fc33e7d5",
   "metadata": {},
   "outputs": [],
   "source": [
    "## 2 LSTM 과 CNN의 조합을 이용함 영화 리뷰 분류하기\n",
    "\n",
    "from tensorflow.keras.preprocessing.text import Tokenizer\n",
    "\n",
    "test_news = ['중부 지방은 대체로 맑겠으나, 남부 지방은 구름이 많겠습니다.',\n",
    "             '올 초부터 유동성의 힘으로 주가가 일정하게 상승했습니다.',\n",
    "             '이번 선거에서는 누가 이길 것 같아?',\n",
    "             '퍼셉트론의 한계를 극복한 신경망이 다시 뜨고 있대.']\n",
    "token = Tokenizer()\n",
    "token.fit_on_texts(test_news)\n",
    "predict_news = token.texts_to_sequences(test_news)"
   ]
  },
  {
   "cell_type": "code",
   "execution_count": 13,
   "id": "3cb8bbe3",
   "metadata": {},
   "outputs": [
    {
     "name": "stdout",
     "output_type": "stream",
     "text": [
      "1/1 [==============================] - 1s 516ms/step\n"
     ]
    },
    {
     "data": {
      "text/plain": [
       "[3, 3, 3, 3]"
      ]
     },
     "execution_count": 13,
     "metadata": {},
     "output_type": "execute_result"
    }
   ],
   "source": [
    "[np.argmax(line) for line in model.predict(sequence.pad_sequences(predict_news, maxlen=100))]"
   ]
  },
  {
   "cell_type": "code",
   "execution_count": 14,
   "id": "fd39c060",
   "metadata": {
    "scrolled": true
   },
   "outputs": [
    {
     "name": "stdout",
     "output_type": "stream",
     "text": [
      "1/1 [==============================] - 0s 35ms/step\n"
     ]
    },
    {
     "data": {
      "text/plain": [
       "array([[0.01066994, 0.02207537, 0.00954635, 0.23384605, 0.13901465,\n",
       "        0.00489613, 0.00316552, 0.00730577, 0.04816541, 0.02291417,\n",
       "        0.01594757, 0.0554153 , 0.00588117, 0.01638842, 0.00377519,\n",
       "        0.00461799, 0.02544704, 0.00612318, 0.0105213 , 0.03735957,\n",
       "        0.04924733, 0.02564448, 0.00439592, 0.01488156, 0.01248203,\n",
       "        0.0085064 , 0.00477571, 0.01938374, 0.01054739, 0.00696825,\n",
       "        0.01111862, 0.01134865, 0.01326424, 0.00275744, 0.01045647,\n",
       "        0.00437827, 0.01461359, 0.00993437, 0.01463416, 0.0249022 ,\n",
       "        0.0087259 , 0.01721294, 0.00627076, 0.00506082, 0.00249701,\n",
       "        0.00291558],\n",
       "       [0.00149932, 0.02928701, 0.00452388, 0.2832014 , 0.04414492,\n",
       "        0.0023302 , 0.00162895, 0.00836235, 0.01981069, 0.02276338,\n",
       "        0.00611116, 0.02887874, 0.00783292, 0.00843054, 0.01334975,\n",
       "        0.00625273, 0.02619557, 0.01282988, 0.0056098 , 0.02090397,\n",
       "        0.03773104, 0.03547847, 0.01102989, 0.02686219, 0.02162132,\n",
       "        0.01753647, 0.00547208, 0.01740789, 0.00419851, 0.02347849,\n",
       "        0.0210831 , 0.02153985, 0.00973167, 0.0061066 , 0.01410658,\n",
       "        0.00855636, 0.03404614, 0.00796884, 0.02506734, 0.04430807,\n",
       "        0.00407396, 0.02814909, 0.00637726, 0.00314501, 0.00169791,\n",
       "        0.00927875],\n",
       "       [0.00612974, 0.02476223, 0.00497849, 0.23017128, 0.21183604,\n",
       "        0.00298138, 0.00200471, 0.00655027, 0.05260991, 0.02141277,\n",
       "        0.01896598, 0.04920866, 0.00851211, 0.01021619, 0.00613388,\n",
       "        0.00272293, 0.01363156, 0.00510565, 0.00648211, 0.03894662,\n",
       "        0.03020629, 0.02660744, 0.00292306, 0.01649899, 0.01097186,\n",
       "        0.00580109, 0.00312336, 0.01773365, 0.00387934, 0.01056734,\n",
       "        0.00937299, 0.00827398, 0.00497069, 0.00168825, 0.00615688,\n",
       "        0.0095324 , 0.03306103, 0.0053197 , 0.00998894, 0.03346001,\n",
       "        0.00646624, 0.0093935 , 0.00340379, 0.00266347, 0.00142177,\n",
       "        0.00315151],\n",
       "       [0.0054357 , 0.01053444, 0.00704613, 0.29601637, 0.03106758,\n",
       "        0.00302166, 0.00133272, 0.01045041, 0.01386363, 0.02125532,\n",
       "        0.01049122, 0.0896947 , 0.00672305, 0.00782098, 0.00369222,\n",
       "        0.00418911, 0.01420878, 0.01438748, 0.00869666, 0.02865192,\n",
       "        0.05518347, 0.04370721, 0.0033119 , 0.01808277, 0.0121338 ,\n",
       "        0.0148604 , 0.00363384, 0.0260445 , 0.00951222, 0.00685436,\n",
       "        0.02097344, 0.02141895, 0.01708402, 0.00486641, 0.01251687,\n",
       "        0.00247736, 0.03614382, 0.00658825, 0.03164601, 0.02458307,\n",
       "        0.0073758 , 0.01694942, 0.00405951, 0.00413776, 0.00246345,\n",
       "        0.00481125]], dtype=float32)"
      ]
     },
     "execution_count": 14,
     "metadata": {},
     "output_type": "execute_result"
    }
   ],
   "source": [
    "model.predict(sequence.pad_sequences(predict_news, maxlen=100))"
   ]
  },
  {
   "cell_type": "markdown",
   "id": "5ba6d80d",
   "metadata": {},
   "source": [
    "# 2 LSTM 과 CNN 조합을 이용함 영화 리뷰 분류하기"
   ]
  },
  {
   "cell_type": "code",
   "execution_count": 15,
   "id": "31852bc4",
   "metadata": {},
   "outputs": [
    {
     "name": "stdout",
     "output_type": "stream",
     "text": [
      "25000 25000\n"
     ]
    }
   ],
   "source": [
    "# IMDB (영화 리뷰) 데이터셋에서 데이터 가져옴\n",
    "from tensorflow.keras.datasets import imdb\n",
    "from tensorflow.keras.layers import MaxPooling1D, Conv1D, Dropout\n",
    "\n",
    "(x_train, y_train), (x_test, y_test) = imdb.load_data(num_words=5000)\n",
    "print(len(x_train), len(x_test))"
   ]
  },
  {
   "cell_type": "code",
   "execution_count": 16,
   "id": "acc90a02",
   "metadata": {},
   "outputs": [],
   "source": [
    "# 단어의 수를 맞춤\n",
    "x_train = sequence.pad_sequences(x_train, maxlen=500)\n",
    "x_test = sequence.pad_sequences(x_test, maxlen=500)"
   ]
  },
  {
   "cell_type": "code",
   "execution_count": 22,
   "id": "ee1217d0",
   "metadata": {},
   "outputs": [
    {
     "name": "stdout",
     "output_type": "stream",
     "text": [
      "Model: \"sequential_3\"\n",
      "_________________________________________________________________\n",
      " Layer (type)                Output Shape              Param #   \n",
      "=================================================================\n",
      " embedding_3 (Embedding)     (None, None, 500)         2500000   \n",
      "                                                                 \n",
      " conv1d_1 (Conv1D)           (None, None, 64)          128064    \n",
      "                                                                 \n",
      " dropout_1 (Dropout)         (None, None, 64)          0         \n",
      "                                                                 \n",
      " max_pooling1d_1 (MaxPooling  (None, None, 64)         0         \n",
      " 1D)                                                             \n",
      "                                                                 \n",
      " lstm_3 (LSTM)               (None, None, 64)          33024     \n",
      "                                                                 \n",
      " attention_1 (Attention)     (None, 128)               20480     \n",
      "                                                                 \n",
      " dense_2 (Dense)             (None, 1)                 129       \n",
      "                                                                 \n",
      "=================================================================\n",
      "Total params: 2,681,697\n",
      "Trainable params: 2,681,697\n",
      "Non-trainable params: 0\n",
      "_________________________________________________________________\n"
     ]
    }
   ],
   "source": [
    "# 모델 설정 -> dropout(0.5), conv1d(64, 커널사이즈 4) 추가\n",
    "model = Sequential()\n",
    "model.add(Embedding(5000, 500))  # 단어 임베딩\n",
    "model.add(Conv1D(64, 4, activation='relu'))\n",
    "model.add(Dropout(0.5))\n",
    "model.add(MaxPooling1D(pool_size=4))\n",
    "model.add(LSTM(64, return_sequences=True))\n",
    "model.add(Attention())\n",
    "model.add(Dense(1, activation='sigmoid'))\n",
    "model.summary()"
   ]
  },
  {
   "cell_type": "code",
   "execution_count": 23,
   "id": "e23fe636",
   "metadata": {},
   "outputs": [
    {
     "name": "stdout",
     "output_type": "stream",
     "text": [
      "Epoch 1/100\n",
      "938/938 [==============================] - 146s 153ms/step - loss: 0.3547 - accuracy: 0.8415 - val_loss: 0.2625 - val_accuracy: 0.8934\n",
      "Epoch 2/100\n",
      "938/938 [==============================] - 144s 153ms/step - loss: 0.2085 - accuracy: 0.9202 - val_loss: 0.2677 - val_accuracy: 0.8896\n",
      "Epoch 3/100\n",
      "938/938 [==============================] - 174s 186ms/step - loss: 0.1436 - accuracy: 0.9459 - val_loss: 0.3166 - val_accuracy: 0.8864\n",
      "Epoch 4/100\n",
      "938/938 [==============================] - 160s 170ms/step - loss: 0.0956 - accuracy: 0.9645 - val_loss: 0.3406 - val_accuracy: 0.8845\n",
      "Epoch 5/100\n",
      "938/938 [==============================] - 175s 187ms/step - loss: 0.0632 - accuracy: 0.9769 - val_loss: 0.4284 - val_accuracy: 0.8802\n",
      "Epoch 6/100\n",
      "938/938 [==============================] - 178s 190ms/step - loss: 0.0533 - accuracy: 0.9807 - val_loss: 0.4301 - val_accuracy: 0.8845\n"
     ]
    },
    {
     "data": {
      "text/plain": [
       "<keras.callbacks.History at 0x24683094130>"
      ]
     },
     "execution_count": 23,
     "metadata": {},
     "output_type": "execute_result"
    }
   ],
   "source": [
    "# 모델 실행 옵션\n",
    "model.compile(loss='binary_crossentropy', optimizer='adam', metrics=['accuracy'])\n",
    "early_stopping = EarlyStopping(patience=5)\n",
    "\n",
    "# 모델 실행\n",
    "model.fit(x_train, y_train, batch_size=20, epochs=100, validation_split=0.25, callbacks=[early_stopping])"
   ]
  },
  {
   "cell_type": "code",
   "execution_count": 19,
   "id": "0ded15eb",
   "metadata": {},
   "outputs": [
    {
     "data": {
      "image/png": "[encoded data removed]",
      "text/plain": [
       "<Figure size 640x480 with 1 Axes>"
      ]
     },
     "metadata": {},
     "output_type": "display_data"
    }
   ],
   "source": [
    "# 학습셋과 테스트셋의 오차를 그래프로 확인\n",
    "y_loss = model.history.history['loss']\n",
    "y_vloss = model.history.history['val_loss']\n",
    "\n",
    "x_len = np.arange(len(y_loss))   # x축 생성\n",
    "\n",
    "import matplotlib.pyplot as plt\n",
    "\n",
    "plt.plot(x_len, y_vloss, marker='.', c='red', label='testset_loss')\n",
    "plt.plot(x_len, y_loss, marker='.', c='blue', label='trainset_loss')\n",
    "\n",
    "plt.legend()\n",
    "plt.xlabel('epoch')\n",
    "plt.ylabel('loss')\n",
    "plt.show()"
   ]
  },
  {
   "cell_type": "code",
   "execution_count": null,
   "id": "d1923d05",
   "metadata": {},
   "outputs": [],
   "source": [
    "# 자연어 처리를 위한 딥러닝\n",
    "## 데이터 전처리 작업\n",
    "# 0. 불필요한 단어 또는 문장 제거\n",
    "# 1. 문장을 단어로 토큰화\n",
    "# 2. 각 문장을 인덱스의 배열로 변환시킴\n",
    "# 3. 각 문장을 같은 사이즈로 padding\n",
    "# 4. 카테고리를 원-핫 인코딩 (옵션)\n",
    "\n",
    "## 모델 설정및 실행\n",
    "# model = Sequential()  # 모델 설정\n",
    "# model.add(Embedding(단어 입력수, 압축사이즈))  # 단어 임베딩\n",
    "# model.add(Conv1d())  # CNN 추가\n",
    "# model.add(MaxPooling1D)  # 맥스풀링\n",
    "# model.add(Dropout())   # 과적합 방지를 위한 dropout\n",
    "# model.LSTM()        # 순서가 있는 자료를 처리하기 위한 RNN 방법\n",
    "# model.add(Dense(클래스갯수, activation=''))\n",
    "\n",
    "# model.compile()    # 모델 실행 옵션\n",
    "# model.fit(X,y,epochs=, validation_split=, callbacks=[])   # 모델 실행\n",
    "\n",
    "## 테스트 데이터의 정확도 확인\n",
    "# model.evaluate(x_test, y_test)\n",
    "\n",
    "## 모델을 사용해서 예측\n",
    "# model.predict(예측하고자 하는 자료)    #  클래스별 확률 반환 -> 가장 큰 확률 찾음"
   ]
  },
  {
   "cell_type": "code",
   "execution_count": null,
   "id": "650b60da",
   "metadata": {},
   "outputs": [],
   "source": []
  }
 ],
 "metadata": {
  "kernelspec": {
   "display_name": "py3.8",
   "language": "python",
   "name": "py3.8"
  },
  "language_info": {
   "codemirror_mode": {
    "name": "ipython",
    "version": 3
   },
   "file_extension": ".py",
   "mimetype": "text/x-python",
   "name": "python",
   "nbconvert_exporter": "python",
   "pygments_lexer": "ipython3",
   "version": "3.8.16"
  }
 },
 "nbformat": 4,
 "nbformat_minor": 5
}
