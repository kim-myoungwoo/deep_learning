{
 "cells": [
  {
   "cell_type": "code",
   "execution_count": 1,
   "id": "7bfa45d3",
   "metadata": {},
   "outputs": [],
   "source": [
    "from tensorflow.keras.models import Sequential\n",
    "from tensorflow.keras.layers import Dense\n",
    "import numpy as np"
   ]
  },
  {
   "cell_type": "code",
   "execution_count": 4,
   "id": "8afcfb0b",
   "metadata": {},
   "outputs": [],
   "source": [
    "data_set = np.loadtxt('./data/data/ThoraricSurgery3.csv',delimiter=',')"
   ]
  },
  {
   "cell_type": "code",
   "execution_count": 5,
   "id": "17595142",
   "metadata": {},
   "outputs": [
    {
     "data": {
      "text/plain": [
       "array([[ 1.  ,  2.88,  2.16,  1.  ,  0.  ,  0.  ,  0.  ,  1.  ,  1.  ,\n",
       "         3.  ,  0.  ,  0.  ,  0.  ,  1.  ,  0.  , 60.  ],\n",
       "       [ 2.  ,  3.4 ,  1.88,  0.  ,  0.  ,  0.  ,  0.  ,  0.  ,  0.  ,\n",
       "         1.  ,  0.  ,  0.  ,  0.  ,  1.  ,  0.  , 51.  ],\n",
       "       [ 2.  ,  2.76,  2.08,  1.  ,  0.  ,  0.  ,  0.  ,  1.  ,  0.  ,\n",
       "         0.  ,  0.  ,  0.  ,  0.  ,  1.  ,  0.  , 59.  ],\n",
       "       [ 2.  ,  3.68,  3.04,  0.  ,  0.  ,  0.  ,  0.  ,  0.  ,  0.  ,\n",
       "         0.  ,  0.  ,  0.  ,  0.  ,  0.  ,  0.  , 54.  ],\n",
       "       [ 2.  ,  2.44,  0.96,  2.  ,  0.  ,  1.  ,  0.  ,  1.  ,  1.  ,\n",
       "         0.  ,  0.  ,  0.  ,  0.  ,  1.  ,  0.  , 73.  ],\n",
       "       [ 2.  ,  2.48,  1.88,  1.  ,  0.  ,  0.  ,  0.  ,  1.  ,  0.  ,\n",
       "         0.  ,  0.  ,  0.  ,  0.  ,  0.  ,  0.  , 51.  ],\n",
       "       [ 2.  ,  4.36,  3.28,  1.  ,  0.  ,  0.  ,  0.  ,  1.  ,  0.  ,\n",
       "         1.  ,  1.  ,  0.  ,  0.  ,  1.  ,  0.  , 59.  ],\n",
       "       [ 1.  ,  3.19,  2.5 ,  1.  ,  0.  ,  0.  ,  0.  ,  1.  ,  0.  ,\n",
       "         0.  ,  0.  ,  0.  ,  1.  ,  1.  ,  0.  , 66.  ],\n",
       "       [ 2.  ,  3.16,  2.64,  2.  ,  0.  ,  0.  ,  0.  ,  1.  ,  1.  ,\n",
       "         0.  ,  0.  ,  0.  ,  0.  ,  1.  ,  0.  , 68.  ],\n",
       "       [ 2.  ,  2.32,  2.16,  1.  ,  0.  ,  0.  ,  0.  ,  1.  ,  0.  ,\n",
       "         0.  ,  0.  ,  0.  ,  0.  ,  1.  ,  0.  , 54.  ]])"
      ]
     },
     "execution_count": 5,
     "metadata": {},
     "output_type": "execute_result"
    }
   ],
   "source": [
    "data_set[:10,0:16]"
   ]
  },
  {
   "cell_type": "code",
   "execution_count": 6,
   "id": "135f7e65",
   "metadata": {},
   "outputs": [
    {
     "data": {
      "text/plain": [
       "(470, 17)"
      ]
     },
     "execution_count": 6,
     "metadata": {},
     "output_type": "execute_result"
    }
   ],
   "source": [
    "data_set.shape"
   ]
  },
  {
   "cell_type": "code",
   "execution_count": 7,
   "id": "161c8c83",
   "metadata": {},
   "outputs": [],
   "source": [
    "X = data_set[:, 0:16]   # 요소가 16개인 데이터\n",
    "Y = data_set[:, 16]     # X의 결과 값 : label"
   ]
  },
  {
   "cell_type": "code",
   "execution_count": 11,
   "id": "807abec6",
   "metadata": {},
   "outputs": [
    {
     "name": "stdout",
     "output_type": "stream",
     "text": [
      "(470, 16)\n",
      "(470,)\n"
     ]
    }
   ],
   "source": [
    "print(X.shape)\n",
    "print(Y.shape)"
   ]
  },
  {
   "cell_type": "code",
   "execution_count": 24,
   "id": "3fc78e8c",
   "metadata": {},
   "outputs": [
    {
     "name": "stdout",
     "output_type": "stream",
     "text": [
      "Model: \"sequential_3\"\n",
      "_________________________________________________________________\n",
      " Layer (type)                Output Shape              Param #   \n",
      "=================================================================\n",
      " dense_7 (Dense)             (None, 30)                510       \n",
      "                                                                 \n",
      " dense_8 (Dense)             (None, 1)                 31        \n",
      "                                                                 \n",
      "=================================================================\n",
      "Total params: 541\n",
      "Trainable params: 541\n",
      "Non-trainable params: 0\n",
      "_________________________________________________________________\n"
     ]
    }
   ],
   "source": [
    "model = Sequential()\n",
    "model.add(Dense(30, input_dim =16, activation='relu'))\n",
    "# model.add(Dense(20, activation='relu'))\n",
    "model.add(Dense(1, activation='sigmoid'))\n",
    "model.summary()"
   ]
  },
  {
   "cell_type": "code",
   "execution_count": 22,
   "id": "4acfd173",
   "metadata": {},
   "outputs": [
    {
     "name": "stdout",
     "output_type": "stream",
     "text": [
      "Epoch 1/5\n",
      "30/30 [==============================] - 1s 2ms/step - loss: 0.4105 - accuracy: 0.8511\n",
      "Epoch 2/5\n",
      "30/30 [==============================] - 0s 2ms/step - loss: 0.4061 - accuracy: 0.8511\n",
      "Epoch 3/5\n",
      "30/30 [==============================] - 0s 2ms/step - loss: 0.4065 - accuracy: 0.8511\n",
      "Epoch 4/5\n",
      "30/30 [==============================] - 0s 2ms/step - loss: 0.4027 - accuracy: 0.8511\n",
      "Epoch 5/5\n",
      "30/30 [==============================] - 0s 2ms/step - loss: 0.4054 - accuracy: 0.8511\n"
     ]
    }
   ],
   "source": [
    "model.compile(loss='binary_crossentropy',optimizer='adam', metrics=['accuracy'])\n",
    "history = model.fit(X, Y, epochs=5, batch_size=16)"
   ]
  },
  {
   "cell_type": "code",
   "execution_count": 25,
   "id": "2315001e",
   "metadata": {},
   "outputs": [],
   "source": [
    "# 최소제곱법으로 단순선형회귀분석(linear regression) 모델 생성\n",
    "import numpy as np\n",
    "x = np.array([2,4,6,8])\n",
    "y = np.array([81,93,91,97])"
   ]
  },
  {
   "cell_type": "code",
   "execution_count": 26,
   "id": "f22ae41a",
   "metadata": {},
   "outputs": [],
   "source": [
    "mean_x=np.mean(x)    # x의 평균\n",
    "mean_y =np.mean(y)   # y의 평균"
   ]
  },
  {
   "cell_type": "code",
   "execution_count": 27,
   "id": "d06aff9d",
   "metadata": {},
   "outputs": [
    {
     "name": "stdout",
     "output_type": "stream",
     "text": [
      "x 의 평균값 : 5.0, y의 평균값 : 90.5\n"
     ]
    }
   ],
   "source": [
    "print(f\"x 의 평균값 : {mean_x}, y의 평균값 : {mean_y}\")"
   ]
  },
  {
   "cell_type": "code",
   "execution_count": 28,
   "id": "27e3d168",
   "metadata": {},
   "outputs": [
    {
     "name": "stdout",
     "output_type": "stream",
     "text": [
      "기울기 :  2.3\n"
     ]
    }
   ],
   "source": [
    "# 기울기 공식 -> 합((x-x의 평균)(y-y의 평균)) / 합((x-x의 평균) 제곱)\n",
    "divisor = sum([ (i-mean_x)**2 for i in x])\n",
    "top = 0 \n",
    "for i in range(len(x)):\n",
    "    top += (x[i] - mean_x) * (y[i] - mean_y)\n",
    "    \n",
    "a = top/divisor\n",
    "print(\"기울기 : \",a)"
   ]
  },
  {
   "cell_type": "code",
   "execution_count": 31,
   "id": "4090ea36",
   "metadata": {},
   "outputs": [
    {
     "name": "stdout",
     "output_type": "stream",
     "text": [
      "79.0\n"
     ]
    }
   ],
   "source": [
    "# 절편 b = y평균 - 기울기(a) * x평균\n",
    "b = mean_y - a*mean_x\n",
    "print(\"절편 b : \", b)"
   ]
  },
  {
   "cell_type": "code",
   "execution_count": 33,
   "id": "d1d27b48",
   "metadata": {},
   "outputs": [
    {
     "data": {
      "text/plain": [
       "46.0"
      ]
     },
     "execution_count": 33,
     "metadata": {},
     "output_type": "execute_result"
    }
   ],
   "source": [
    "sum([(x[i]-mean_x)*(y[i] - mean_y) for i in range(len(x))])"
   ]
  },
  {
   "cell_type": "code",
   "execution_count": 35,
   "id": "1a2cea1b",
   "metadata": {},
   "outputs": [
    {
     "name": "stdout",
     "output_type": "stream",
     "text": [
      "[83.6, 88.2, 92.8, 97.4]\n"
     ]
    }
   ],
   "source": [
    "pred_y = [a*i + b for i in x]  # 예측 값\n",
    "print(pred_y)"
   ]
  },
  {
   "cell_type": "code",
   "execution_count": 36,
   "id": "d49056de",
   "metadata": {},
   "outputs": [
    {
     "name": "stdout",
     "output_type": "stream",
     "text": [
      "Collecting matplotlib\n",
      "  Downloading matplotlib-3.7.1-cp38-cp38-win_amd64.whl (7.6 MB)\n",
      "     ---------------------------------------- 0.0/7.6 MB ? eta -:--:--\n",
      "     - -------------------------------------- 0.3/7.6 MB 16.4 MB/s eta 0:00:01\n",
      "     ---- ----------------------------------- 0.8/7.6 MB 7.0 MB/s eta 0:00:01\n",
      "     ----- ---------------------------------- 1.1/7.6 MB 6.4 MB/s eta 0:00:02\n",
      "     ------ --------------------------------- 1.3/7.6 MB 6.7 MB/s eta 0:00:01\n",
      "     ------ --------------------------------- 1.3/7.6 MB 6.7 MB/s eta 0:00:01\n",
      "     ------ --------------------------------- 1.3/7.6 MB 4.4 MB/s eta 0:00:02\n",
      "     -------- ------------------------------- 1.7/7.6 MB 4.6 MB/s eta 0:00:02\n",
      "     ---------- ----------------------------- 2.0/7.6 MB 5.0 MB/s eta 0:00:02\n",
      "     ------------- -------------------------- 2.5/7.6 MB 5.6 MB/s eta 0:00:01\n",
      "     -------------- ------------------------- 2.8/7.6 MB 5.6 MB/s eta 0:00:01\n",
      "     ---------------- ----------------------- 3.1/7.6 MB 5.8 MB/s eta 0:00:01\n",
      "     ----------------- ---------------------- 3.4/7.6 MB 5.7 MB/s eta 0:00:01\n",
      "     ------------------- -------------------- 3.7/7.6 MB 5.9 MB/s eta 0:00:01\n",
      "     -------------------- ------------------- 4.0/7.6 MB 5.9 MB/s eta 0:00:01\n",
      "     ----------------------- ---------------- 4.5/7.6 MB 6.2 MB/s eta 0:00:01\n",
      "     ------------------------ --------------- 4.7/7.6 MB 6.2 MB/s eta 0:00:01\n",
      "     -------------------------- ------------- 5.1/7.6 MB 6.3 MB/s eta 0:00:01\n",
      "     ---------------------------- ----------- 5.5/7.6 MB 6.2 MB/s eta 0:00:01\n",
      "     ------------------------------ --------- 5.8/7.6 MB 6.2 MB/s eta 0:00:01\n",
      "     --------------------------------- ------ 6.3/7.6 MB 6.3 MB/s eta 0:00:01\n",
      "     ---------------------------------- ----- 6.5/7.6 MB 6.4 MB/s eta 0:00:01\n",
      "     ------------------------------------- -- 7.1/7.6 MB 6.4 MB/s eta 0:00:01\n",
      "     ---------------------------------------  7.5/7.6 MB 6.5 MB/s eta 0:00:01\n",
      "     ---------------------------------------- 7.6/7.6 MB 6.3 MB/s eta 0:00:00\n",
      "Collecting pillow>=6.2.0\n",
      "  Downloading Pillow-9.4.0-cp38-cp38-win_amd64.whl (2.5 MB)\n",
      "     ---------------------------------------- 0.0/2.5 MB ? eta -:--:--\n",
      "     --- ------------------------------------ 0.2/2.5 MB 5.9 MB/s eta 0:00:01\n",
      "     ------- -------------------------------- 0.5/2.5 MB 6.2 MB/s eta 0:00:01\n",
      "     ------------- -------------------------- 0.8/2.5 MB 5.8 MB/s eta 0:00:01\n",
      "     ------------------- -------------------- 1.2/2.5 MB 6.6 MB/s eta 0:00:01\n",
      "     ---------------------------- ----------- 1.8/2.5 MB 7.0 MB/s eta 0:00:01\n",
      "     ---------------------------------- ----- 2.1/2.5 MB 7.5 MB/s eta 0:00:01\n",
      "     ---------------------------------------- 2.5/2.5 MB 7.3 MB/s eta 0:00:00\n",
      "Collecting fonttools>=4.22.0\n",
      "  Downloading fonttools-4.39.2-py3-none-any.whl (1.0 MB)\n",
      "     ---------------------------------------- 0.0/1.0 MB ? eta -:--:--\n",
      "     ----------------- ---------------------- 0.4/1.0 MB 9.3 MB/s eta 0:00:01\n",
      "     -------------------------------- ------- 0.8/1.0 MB 10.5 MB/s eta 0:00:01\n",
      "     ---------------------------------------- 1.0/1.0 MB 7.1 MB/s eta 0:00:00\n",
      "Collecting kiwisolver>=1.0.1\n",
      "  Downloading kiwisolver-1.4.4-cp38-cp38-win_amd64.whl (55 kB)\n",
      "     ---------------------------------------- 0.0/55.4 kB ? eta -:--:--\n",
      "     ---------------------------------------- 55.4/55.4 kB ? eta 0:00:00\n",
      "Requirement already satisfied: packaging>=20.0 in c:\\users\\82103\\anaconda3\\envs\\py3.8\\lib\\site-packages (from matplotlib) (23.0)\n",
      "Collecting cycler>=0.10\n",
      "  Downloading cycler-0.11.0-py3-none-any.whl (6.4 kB)\n",
      "Collecting pyparsing>=2.3.1\n",
      "  Downloading pyparsing-3.0.9-py3-none-any.whl (98 kB)\n",
      "     ---------------------------------------- 0.0/98.3 kB ? eta -:--:--\n",
      "     ---------------------------------------- 98.3/98.3 kB ? eta 0:00:00\n",
      "Requirement already satisfied: numpy>=1.20 in c:\\users\\82103\\anaconda3\\envs\\py3.8\\lib\\site-packages (from matplotlib) (1.24.2)\n",
      "Collecting contourpy>=1.0.1\n",
      "  Downloading contourpy-1.0.7-cp38-cp38-win_amd64.whl (162 kB)\n",
      "     ---------------------------------------- 0.0/163.0 kB ? eta -:--:--\n",
      "     ------------------------------------- 163.0/163.0 kB 10.2 MB/s eta 0:00:00\n",
      "Requirement already satisfied: python-dateutil>=2.7 in c:\\users\\82103\\anaconda3\\envs\\py3.8\\lib\\site-packages (from matplotlib) (2.8.2)\n",
      "Requirement already satisfied: importlib-resources>=3.2.0 in c:\\users\\82103\\anaconda3\\envs\\py3.8\\lib\\site-packages (from matplotlib) (5.2.0)\n",
      "Requirement already satisfied: zipp>=3.1.0 in c:\\users\\82103\\anaconda3\\envs\\py3.8\\lib\\site-packages (from importlib-resources>=3.2.0->matplotlib) (3.11.0)\n",
      "Requirement already satisfied: six>=1.5 in c:\\users\\82103\\anaconda3\\envs\\py3.8\\lib\\site-packages (from python-dateutil>=2.7->matplotlib) (1.16.0)\n",
      "Installing collected packages: pyparsing, pillow, kiwisolver, fonttools, cycler, contourpy, matplotlib\n",
      "Successfully installed contourpy-1.0.7 cycler-0.11.0 fonttools-4.39.2 kiwisolver-1.4.4 matplotlib-3.7.1 pillow-9.4.0 pyparsing-3.0.9\n"
     ]
    }
   ],
   "source": [
    "!pip install matplotlib"
   ]
  },
  {
   "cell_type": "code",
   "execution_count": 37,
   "id": "dcb7b60b",
   "metadata": {},
   "outputs": [
    {
     "data": {
      "image/png": "[encoded data removed]",
      "text/plain": [
       "<Figure size 500x500 with 1 Axes>"
      ]
     },
     "metadata": {},
     "output_type": "display_data"
    }
   ],
   "source": [
    "import matplotlib.pyplot as plt\n",
    "\n",
    "plt.figure(figsize=(5,5))\n",
    "\n",
    "plt.plot(x,y,'o', color='red', label='actual value')\n",
    "plt.plot(x, pred_y, 'o', color='blue', label='predict value')\n",
    "plt.legend()\n",
    "\n",
    "plt.show()"
   ]
  },
  {
   "cell_type": "code",
   "execution_count": 42,
   "id": "e970596e",
   "metadata": {},
   "outputs": [
    {
     "name": "stdout",
     "output_type": "stream",
     "text": [
      "[82, 88, 94, 100]\n",
      "평균 제곱 오차 :  11.0\n"
     ]
    }
   ],
   "source": [
    "# 평균 제곱 오차(MSE) 구함\n",
    "# 기울기와 절편에 임의의 초기값 설정\n",
    "fake_a =3\n",
    "fake_b = 76\n",
    "# 공부 시간과 성적 배열 생성\n",
    "x = np.array([2,4,6,8])\n",
    "y = np.array([81,93,91,97])\n",
    "\n",
    "def predict(x):\n",
    "    return x * fake_a + fake_b\n",
    "\n",
    "predict_result = [predict(i) for i in x]   # 예측값 생성\n",
    "print(predict_result)\n",
    "\n",
    "# 평균 제곱 오차 결과값 구함\n",
    "\n",
    "mse_result = sum([(predict_result[i] - y[i])**2 for i in range(len(y))])/len(y)\n",
    "print(\"평균 제곱 오차 : \",mse_result)"
   ]
  },
  {
   "cell_type": "code",
   "execution_count": 44,
   "id": "62e797cf",
   "metadata": {},
   "outputs": [
    {
     "name": "stdout",
     "output_type": "stream",
     "text": [
      "공부시간 : 2, 실제점수 : 81, 예측점수 : 82\n",
      "공부시간 : 4, 실제점수 : 93, 예측점수 : 88\n",
      "공부시간 : 6, 실제점수 : 91, 예측점수 : 94\n",
      "공부시간 : 8, 실제점수 : 97, 예측점수 : 100\n",
      "평균 제곱 오차 :  11.0\n"
     ]
    }
   ],
   "source": [
    "for x_value, y_value, y_predict in zip(x,y,predict_result):\n",
    "    print(\"공부시간 : {}, 실제점수 : {}, 예측점수 : {}\".format(x_value, y_value, y_predict))\n",
    "print(\"평균 제곱 오차 : \", mse_result)"
   ]
  },
  {
   "cell_type": "code",
   "execution_count": 54,
   "id": "147aefc4",
   "metadata": {
    "scrolled": true
   },
   "outputs": [
    {
     "name": "stdout",
     "output_type": "stream",
     "text": [
      "epochs : 0,  기울기 : 29.696,  절편 : 5.792\n",
      "epochs : 100,  기울기 : 7.784106397122361,  절편 : 52.505933230602444\n",
      "epochs : 200,  기울기 : 3.944543199288549,  절편 : 69.61636581427516\n",
      "epochs : 300,  기울기 : 2.8595973029900312,  절편 : 75.69026946750296\n",
      "epochs : 400,  기울기 : 2.495806855153912,  절편 : 77.83355933419797\n",
      "epochs : 500,  기울기 : 2.368899445700412,  절편 : 78.58897916491581\n",
      "epochs : 600,  기울기 : 2.3242707478530282,  절편 : 78.85517233183428\n",
      "epochs : 700,  기울기 : 2.3085515462522577,  절편 : 78.94896870406411\n",
      "epochs : 800,  기울기 : 2.30301317650574,  절편 : 78.98201869784975\n",
      "epochs : 900,  기울기 : 2.301061715377882,  절편 : 78.99366413990509\n",
      "epochs : 1000,  기울기 : 2.3003741039989802,  절편 : 78.99776750754924\n",
      "epochs : 1100,  기울기 : 2.3001318186113164,  절편 : 78.99921336291786\n",
      "epochs : 1200,  기울기 : 2.3000464473713826,  절편 : 78.9997228219528\n",
      "epochs : 1300,  기울기 : 2.300016366113365,  절편 : 78.99990233403486\n",
      "epochs : 1400,  기울기 : 2.300005766734668,  절편 : 78.99996558659375\n",
      "epochs : 1500,  기울기 : 2.300002031956414,  절편 : 78.99998787415316\n",
      "epochs : 1600,  기울기 : 2.300000715976551,  절편 : 78.99999572735814\n",
      "epochs : 1700,  기울기 : 2.300000252280228,  절편 : 78.99999849449951\n",
      "epochs : 1800,  기울기 : 2.3000000888929977,  절편 : 78.99999946952455\n",
      "epochs : 1900,  기울기 : 2.3000000313221904,  절편 : 78.99999981308261\n",
      "epochs : 2000,  기울기 : 2.300000011036622,  절편 : 78.99999993413812\n"
     ]
    },
    {
     "data": {
      "image/png": "[encoded data removed]",
      "text/plain": [
       "<Figure size 640x480 with 1 Axes>"
      ]
     },
     "metadata": {},
     "output_type": "display_data"
    }
   ],
   "source": [
    "# 경사하강법으로 a의 b를 검색 : MSE가 최소가 되도록\n",
    "x = np.array([2,4,6,8])\n",
    "y = np.array([81,93,91,97])\n",
    "\n",
    "a=0; b=0 # 기울기와 절편을 0으로 초기화\n",
    "lr = 0.032 # 학습률 설정\n",
    "epochs = 2001  # 2001의 반복 실행\n",
    "n = len(x)\n",
    "\n",
    "# 경사하강법 실행\n",
    "for i in range(epochs):\n",
    "    y_pred = a * x + b   # 예측값 구함\n",
    "    error = y - y_pred   # 실제값과 예측값 차이 구함\n",
    "    \n",
    "    a_diff = (2/n)*sum(-x * (error))  # a로 편미분\n",
    "    b_diff = (2/n)*sum(-error)        # b로 편미분\n",
    "    \n",
    "    a = a-lr * a_diff   # 다음에 적용할 a값 수정\n",
    "    b = b-lr * b_diff   # 다음에 적용할 b값 수정\n",
    "    \n",
    "    if i%100 ==0:\n",
    "        print(\"epochs : {},  기울기 : {},  절편 : {}\".format(i, a, b))\n",
    "# 최종 a와 b를 적용하여 y의 예측값 구함\n",
    "y_pred = a*x + b\n",
    "\n",
    "# 그래프를 그림\n",
    "plt.scatter(x,y)\n",
    "plt.plot(x, y_pred, 'r')\n",
    "plt.show()"
   ]
  },
  {
   "cell_type": "code",
   "execution_count": null,
   "id": "db9c910a",
   "metadata": {},
   "outputs": [],
   "source": []
  }
 ],
 "metadata": {
  "kernelspec": {
   "display_name": "py3.8",
   "language": "python",
   "name": "py3.8"
  },
  "language_info": {
   "codemirror_mode": {
    "name": "ipython",
    "version": 3
   },
   "file_extension": ".py",
   "mimetype": "text/x-python",
   "name": "python",
   "nbconvert_exporter": "python",
   "pygments_lexer": "ipython3",
   "version": "3.8.16"
  }
 },
 "nbformat": 4,
 "nbformat_minor": 5
}
