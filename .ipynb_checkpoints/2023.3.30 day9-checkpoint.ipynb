{
 "cells": [
  {
   "cell_type": "code",
   "execution_count": 1,
   "id": "cf048ff5",
   "metadata": {},
   "outputs": [],
   "source": [
    "# 전이 학습 - VGG16을 활용\n",
    "from tensorflow.keras.models import Sequential\n",
    "from tensorflow.keras.preprocessing.image import ImageDataGenerator\n",
    "from tensorflow.keras import optimizers\n",
    "from tensorflow.keras.layers import Dense, Flatten, Activation, Dropout\n",
    "from tensorflow.keras.applications import VGG16\n",
    "from tensorflow.keras.callbacks import EarlyStopping\n",
    "\n",
    "import numpy as np\n",
    "import matplotlib.pyplot as plt"
   ]
  },
  {
   "cell_type": "code",
   "execution_count": 2,
   "id": "4241a979",
   "metadata": {},
   "outputs": [
    {
     "name": "stdout",
     "output_type": "stream",
     "text": [
      "Found 160 images belonging to 2 classes.\n",
      "Found 120 images belonging to 2 classes.\n"
     ]
    }
   ],
   "source": [
    "# 기존의 이미지의 갯수를 늘리는 작업 : 데이터 전처리\n",
    "train_datagen=ImageDataGenerator(rescale=1./255,   # 정규화\n",
    "                   horizontal_flip=True, # 수평으로 뒤집기\n",
    "                   width_shift_range=0.1, # 수평이동\n",
    "                   height_shift_range=0.1, # 수직이동\n",
    "                   fill_mode='nearest')  # 빈 공간 채우는 방법\n",
    "test_datagen = ImageDataGenerator(rescale=1./255)\n",
    "\n",
    "train_generator= train_datagen.flow_from_directory('./data/data/chap20-data/train',   # 학습셋이 있는 폴더의 위치\n",
    "                                                target_size=(150,150), batch_size=5, class_mode='binary')\n",
    "\n",
    "test_generator= test_datagen.flow_from_directory('./data/data/chap20-data/test',   # 학습셋이 있는 폴더의 위치\n",
    "                                                target_size=(150,150), batch_size=5, class_mode='binary')"
   ]
  },
  {
   "cell_type": "code",
   "execution_count": 3,
   "id": "c920d5fe",
   "metadata": {},
   "outputs": [
    {
     "name": "stdout",
     "output_type": "stream",
     "text": [
      "Model: \"vgg16\"\n",
      "_________________________________________________________________\n",
      " Layer (type)                Output Shape              Param #   \n",
      "=================================================================\n",
      " input_1 (InputLayer)        [(None, 150, 150, 3)]     0         \n",
      "                                                                 \n",
      " block1_conv1 (Conv2D)       (None, 150, 150, 64)      1792      \n",
      "                                                                 \n",
      " block1_conv2 (Conv2D)       (None, 150, 150, 64)      36928     \n",
      "                                                                 \n",
      " block1_pool (MaxPooling2D)  (None, 75, 75, 64)        0         \n",
      "                                                                 \n",
      " block2_conv1 (Conv2D)       (None, 75, 75, 128)       73856     \n",
      "                                                                 \n",
      " block2_conv2 (Conv2D)       (None, 75, 75, 128)       147584    \n",
      "                                                                 \n",
      " block2_pool (MaxPooling2D)  (None, 37, 37, 128)       0         \n",
      "                                                                 \n",
      " block3_conv1 (Conv2D)       (None, 37, 37, 256)       295168    \n",
      "                                                                 \n",
      " block3_conv2 (Conv2D)       (None, 37, 37, 256)       590080    \n",
      "                                                                 \n",
      " block3_conv3 (Conv2D)       (None, 37, 37, 256)       590080    \n",
      "                                                                 \n",
      " block3_pool (MaxPooling2D)  (None, 18, 18, 256)       0         \n",
      "                                                                 \n",
      " block4_conv1 (Conv2D)       (None, 18, 18, 512)       1180160   \n",
      "                                                                 \n",
      " block4_conv2 (Conv2D)       (None, 18, 18, 512)       2359808   \n",
      "                                                                 \n",
      " block4_conv3 (Conv2D)       (None, 18, 18, 512)       2359808   \n",
      "                                                                 \n",
      " block4_pool (MaxPooling2D)  (None, 9, 9, 512)         0         \n",
      "                                                                 \n",
      " block5_conv1 (Conv2D)       (None, 9, 9, 512)         2359808   \n",
      "                                                                 \n",
      " block5_conv2 (Conv2D)       (None, 9, 9, 512)         2359808   \n",
      "                                                                 \n",
      " block5_conv3 (Conv2D)       (None, 9, 9, 512)         2359808   \n",
      "                                                                 \n",
      " block5_pool (MaxPooling2D)  (None, 4, 4, 512)         0         \n",
      "                                                                 \n",
      "=================================================================\n",
      "Total params: 14,714,688\n",
      "Trainable params: 0\n",
      "Non-trainable params: 14,714,688\n",
      "_________________________________________________________________\n"
     ]
    }
   ],
   "source": [
    "transfer_model = VGG16(input_shape=(150,150,3), include_top=False)\n",
    "transfer_model.trainable =False\n",
    "transfer_model.summary()"
   ]
  },
  {
   "cell_type": "code",
   "execution_count": 5,
   "id": "69857af0",
   "metadata": {},
   "outputs": [
    {
     "name": "stdout",
     "output_type": "stream",
     "text": [
      "Model: \"sequential\"\n",
      "_________________________________________________________________\n",
      " Layer (type)                Output Shape              Param #   \n",
      "=================================================================\n",
      " vgg16 (Functional)          (None, 4, 4, 512)         14714688  \n",
      "                                                                 \n",
      " flatten (Flatten)           (None, 8192)              0         \n",
      "                                                                 \n",
      " dense (Dense)               (None, 64)                524352    \n",
      "                                                                 \n",
      " dropout (Dropout)           (None, 64)                0         \n",
      "                                                                 \n",
      " dense_1 (Dense)             (None, 1)                 65        \n",
      "                                                                 \n",
      "=================================================================\n",
      "Total params: 15,239,105\n",
      "Trainable params: 524,417\n",
      "Non-trainable params: 14,714,688\n",
      "_________________________________________________________________\n"
     ]
    }
   ],
   "source": [
    "# VGG16 모델을 연결\n",
    "model = Sequential()\n",
    "model.add(transfer_model)\n",
    "model.add(Flatten())\n",
    "model.add(Dense(64, activation='relu'))\n",
    "model.add(Dropout(0.5))\n",
    "model.add(Dense(1, activation='sigmoid'))\n",
    "model.summary()"
   ]
  },
  {
   "cell_type": "code",
   "execution_count": 7,
   "id": "61c707a3",
   "metadata": {},
   "outputs": [
    {
     "name": "stdout",
     "output_type": "stream",
     "text": [
      "Epoch 1/30\n",
      "32/32 [==============================] - 16s 461ms/step - loss: 0.7881 - accuracy: 0.5188 - val_loss: 0.6664 - val_accuracy: 0.5000\n",
      "Epoch 2/30\n",
      "32/32 [==============================] - 15s 458ms/step - loss: 0.6145 - accuracy: 0.6375 - val_loss: 0.4994 - val_accuracy: 0.8000\n",
      "Epoch 3/30\n",
      "32/32 [==============================] - 16s 495ms/step - loss: 0.4705 - accuracy: 0.7937 - val_loss: 0.4513 - val_accuracy: 0.8800\n",
      "Epoch 4/30\n",
      "32/32 [==============================] - 16s 493ms/step - loss: 0.3833 - accuracy: 0.8813 - val_loss: 0.3812 - val_accuracy: 0.8800\n",
      "Epoch 5/30\n",
      "32/32 [==============================] - 17s 519ms/step - loss: 0.3426 - accuracy: 0.8625 - val_loss: 0.2982 - val_accuracy: 0.9600\n",
      "Epoch 6/30\n",
      "32/32 [==============================] - 17s 529ms/step - loss: 0.3400 - accuracy: 0.8813 - val_loss: 0.2737 - val_accuracy: 0.9600\n",
      "Epoch 7/30\n",
      "32/32 [==============================] - 17s 538ms/step - loss: 0.2949 - accuracy: 0.9000 - val_loss: 0.2833 - val_accuracy: 0.9000\n",
      "Epoch 8/30\n",
      "32/32 [==============================] - 17s 535ms/step - loss: 0.2835 - accuracy: 0.9000 - val_loss: 0.2878 - val_accuracy: 0.9000\n",
      "Epoch 9/30\n",
      "32/32 [==============================] - 17s 543ms/step - loss: 0.2482 - accuracy: 0.9125 - val_loss: 0.1958 - val_accuracy: 0.9600\n",
      "Epoch 10/30\n",
      "32/32 [==============================] - 17s 549ms/step - loss: 0.2266 - accuracy: 0.9250 - val_loss: 0.2793 - val_accuracy: 0.8800\n",
      "Epoch 11/30\n",
      "32/32 [==============================] - 18s 565ms/step - loss: 0.2224 - accuracy: 0.9375 - val_loss: 0.2702 - val_accuracy: 0.9200\n",
      "Epoch 12/30\n",
      "32/32 [==============================] - 16s 517ms/step - loss: 0.2080 - accuracy: 0.9500 - val_loss: 0.1748 - val_accuracy: 0.9600\n",
      "Epoch 13/30\n",
      "32/32 [==============================] - 17s 544ms/step - loss: 0.2098 - accuracy: 0.9563 - val_loss: 0.2341 - val_accuracy: 0.9200\n",
      "Epoch 14/30\n",
      "32/32 [==============================] - 17s 532ms/step - loss: 0.1986 - accuracy: 0.9250 - val_loss: 0.2598 - val_accuracy: 0.8800\n",
      "Epoch 15/30\n",
      "32/32 [==============================] - 18s 556ms/step - loss: 0.1719 - accuracy: 0.9375 - val_loss: 0.1891 - val_accuracy: 0.9600\n",
      "Epoch 16/30\n",
      "32/32 [==============================] - 18s 578ms/step - loss: 0.1817 - accuracy: 0.9312 - val_loss: 0.1369 - val_accuracy: 0.9400\n",
      "Epoch 17/30\n",
      "32/32 [==============================] - 17s 531ms/step - loss: 0.1766 - accuracy: 0.9438 - val_loss: 0.1404 - val_accuracy: 0.9400\n",
      "Epoch 18/30\n",
      "32/32 [==============================] - 17s 528ms/step - loss: 0.1794 - accuracy: 0.9438 - val_loss: 0.1656 - val_accuracy: 0.9400\n",
      "Epoch 19/30\n",
      "32/32 [==============================] - 17s 536ms/step - loss: 0.1659 - accuracy: 0.9375 - val_loss: 0.0961 - val_accuracy: 0.9600\n",
      "Epoch 20/30\n",
      "32/32 [==============================] - 17s 540ms/step - loss: 0.1352 - accuracy: 0.9563 - val_loss: 0.1746 - val_accuracy: 0.9600\n",
      "Epoch 21/30\n",
      "32/32 [==============================] - 18s 560ms/step - loss: 0.1540 - accuracy: 0.9375 - val_loss: 0.1241 - val_accuracy: 0.9800\n",
      "Epoch 22/30\n",
      "32/32 [==============================] - 18s 564ms/step - loss: 0.1651 - accuracy: 0.9500 - val_loss: 0.1592 - val_accuracy: 0.9600\n",
      "Epoch 23/30\n",
      "32/32 [==============================] - 20s 603ms/step - loss: 0.1176 - accuracy: 0.9563 - val_loss: 0.0930 - val_accuracy: 0.9800\n",
      "Epoch 24/30\n",
      "32/32 [==============================] - 18s 557ms/step - loss: 0.1172 - accuracy: 0.9688 - val_loss: 0.1963 - val_accuracy: 0.9200\n",
      "Epoch 25/30\n",
      "32/32 [==============================] - 18s 578ms/step - loss: 0.1344 - accuracy: 0.9625 - val_loss: 0.2204 - val_accuracy: 0.8800\n",
      "Epoch 26/30\n",
      "32/32 [==============================] - 18s 567ms/step - loss: 0.1491 - accuracy: 0.9500 - val_loss: 0.1564 - val_accuracy: 0.9600\n",
      "Epoch 27/30\n",
      "32/32 [==============================] - 19s 589ms/step - loss: 0.1184 - accuracy: 0.9625 - val_loss: 0.1467 - val_accuracy: 0.9400\n",
      "Epoch 28/30\n",
      "32/32 [==============================] - 18s 575ms/step - loss: 0.1069 - accuracy: 0.9688 - val_loss: 0.0814 - val_accuracy: 0.9800\n",
      "Epoch 29/30\n",
      "32/32 [==============================] - 19s 597ms/step - loss: 0.1004 - accuracy: 0.9812 - val_loss: 0.1736 - val_accuracy: 0.9400\n",
      "Epoch 30/30\n",
      "32/32 [==============================] - 19s 597ms/step - loss: 0.1243 - accuracy: 0.9688 - val_loss: 0.0751 - val_accuracy: 1.0000\n"
     ]
    }
   ],
   "source": [
    "# 컴파일 옵션\n",
    "model.compile(loss='binary_crossentropy', optimizer=optimizers.Adam(learning_rate=0.0002), metrics=['accuracy'])\n",
    "\n",
    "# 조기 중간점 설정\n",
    "early_stopping = EarlyStopping(patience=5)\n",
    "\n",
    "# 모델 실행\n",
    "history = model.fit(train_generator, epochs=30, validation_data=test_generator, validation_steps=10, callbacks=[early_stopping])"
   ]
  },
  {
   "cell_type": "code",
   "execution_count": 8,
   "id": "339f48fb",
   "metadata": {},
   "outputs": [
    {
     "data": {
      "image/png": "[encoded data removed]",
      "text/plain": [
       "<Figure size 640x480 with 1 Axes>"
      ]
     },
     "metadata": {},
     "output_type": "display_data"
    }
   ],
   "source": [
    "y_vloss = history.history['val_loss']\n",
    "y_loss = history.history['loss']\n",
    "\n",
    "x_len= np.arange(len(y_loss))\n",
    "plt.plot(x_len, y_vloss, marker='.', c='red', label='testset_loss')\n",
    "plt.plot(x_len, y_loss, marker='.', c='blue', label='trainset.loss')\n",
    "\n",
    "plt.legend(loc='upper right')\n",
    "plt.xlabel('epoch')\n",
    "plt.ylabel('loss')\n",
    "plt.show()"
   ]
  }
 ],
 "metadata": {
  "kernelspec": {
   "display_name": "py3.8",
   "language": "python",
   "name": "py3.8"
  },
  "language_info": {
   "codemirror_mode": {
    "name": "ipython",
    "version": 3
   },
   "file_extension": ".py",
   "mimetype": "text/x-python",
   "name": "python",
   "nbconvert_exporter": "python",
   "pygments_lexer": "ipython3",
   "version": "3.8.16"
  }
 },
 "nbformat": 4,
 "nbformat_minor": 5
}
