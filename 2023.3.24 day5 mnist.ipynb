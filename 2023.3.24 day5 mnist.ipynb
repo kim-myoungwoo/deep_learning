{
 "cells": [
  {
   "cell_type": "code",
   "execution_count": 1,
   "id": "c72c5e7c",
   "metadata": {},
   "outputs": [],
   "source": [
    "# %load deep_import.py\n",
    "from tensorflow.keras.models import Sequential\n",
    "from tensorflow.keras.layers import Dense\n",
    "from tensorflow.keras.callbacks import EarlyStopping, ModelCheckpoint\n",
    "from tensorflow.keras.utils import to_categorical\n",
    "\n",
    "import pandas as pd\n",
    "import numpy as np\n",
    "import matplotlib.pyplot as plt"
   ]
  },
  {
   "cell_type": "code",
   "execution_count": 2,
   "id": "f1719d51",
   "metadata": {},
   "outputs": [],
   "source": [
    "# mnist 자료 가져옴\n",
    "from tensorflow.keras.datasets import mnist\n",
    "\n",
    "(X_train, y_train), (X_test, y_test)=mnist.load_data()"
   ]
  },
  {
   "cell_type": "code",
   "execution_count": 3,
   "id": "0e15c8b9",
   "metadata": {},
   "outputs": [],
   "source": [
    "# 데이터 정규화, 카테고리 데이터 변환 \n",
    "# 모델 설계, 모델 실행\n",
    "# 테스트 데이터로 모델 정확도 확인\n",
    "# 검증과 학습 손실 함수의 결과를 그래프로 표현"
   ]
  },
  {
   "cell_type": "code",
   "execution_count": 4,
   "id": "d1698fcd",
   "metadata": {},
   "outputs": [],
   "source": [
    "X_train = X_train.reshape(X_train.shape[0],28*28).astype('float64')/255\n",
    "X_test = X_test.reshape(X_test.shape[0],28*28).astype('float64')/255\n",
    "y_train = to_categorical(y_train, 10)\n",
    "y_test = to_categorical(y_test, 10)"
   ]
  },
  {
   "cell_type": "code",
   "execution_count": 5,
   "id": "4c7493a4",
   "metadata": {},
   "outputs": [
    {
     "name": "stdout",
     "output_type": "stream",
     "text": [
      "Model: \"sequential\"\n",
      "_________________________________________________________________\n",
      " Layer (type)                Output Shape              Param #   \n",
      "=================================================================\n",
      " dense (Dense)               (None, 512)               401920    \n",
      "                                                                 \n",
      " dense_1 (Dense)             (None, 10)                5130      \n",
      "                                                                 \n",
      "=================================================================\n",
      "Total params: 407,050\n",
      "Trainable params: 407,050\n",
      "Non-trainable params: 0\n",
      "_________________________________________________________________\n"
     ]
    }
   ],
   "source": [
    "model1 = Sequential()\n",
    "model1.add(Dense(512, input_dim = 28*28, activation = 'relu'))\n",
    "model1.add(Dense(10, activation='softmax'))\n",
    "model1.summary()"
   ]
  },
  {
   "cell_type": "code",
   "execution_count": 6,
   "id": "934e89e6",
   "metadata": {},
   "outputs": [],
   "source": [
    "model1.compile(optimizer='adam',loss='categorical_crossentropy', metrics=['accuracy'])\n",
    "early_stopping = EarlyStopping(patience=5)\n",
    "checkpointer = ModelCheckpoint(filepath = './data/data/model/MNISTmodel.hdf5',verbose=0, save_best_only=True)\n",
    "history=model1.fit(X_train, y_train, validation_split=0.25, verbose=0, epochs=40, batch_size=200, callbacks=[early_stopping, checkpointer])"
   ]
  },
  {
   "cell_type": "code",
   "execution_count": 7,
   "id": "f6eae6b0",
   "metadata": {},
   "outputs": [
    {
     "name": "stdout",
     "output_type": "stream",
     "text": [
      "313/313 [==============================] - 1s 3ms/step - loss: 0.0678 - accuracy: 0.9812\n",
      "Test Accuracy : 0.9812\n"
     ]
    }
   ],
   "source": [
    "print(\"Test Accuracy : %.4f\" % (model1.evaluate(X_test,y_test)[1]))"
   ]
  },
  {
   "cell_type": "code",
   "execution_count": 8,
   "id": "938bb7b2",
   "metadata": {},
   "outputs": [],
   "source": [
    "y_vloss = history.history['val_loss']\n",
    "y_loss = history.history['loss']"
   ]
  },
  {
   "cell_type": "code",
   "execution_count": 9,
   "id": "080f1527",
   "metadata": {},
   "outputs": [
    {
     "data": {
      "image/png": "[encoded data removed]",
      "text/plain": [
       "<Figure size 640x480 with 1 Axes>"
      ]
     },
     "metadata": {},
     "output_type": "display_data"
    }
   ],
   "source": [
    "x_len = np.arange(len(y_loss))\n",
    "plt.plot(x_len, y_vloss, label='test_loss')\n",
    "plt.plot(x_len, y_loss, label='train_loss')\n",
    "plt.legend(loc='upper right')\n",
    "plt.xlabel('epoch')\n",
    "plt.ylabel('loss')\n",
    "plt.show()"
   ]
  },
  {
   "cell_type": "code",
   "execution_count": null,
   "id": "bac4aa5c",
   "metadata": {},
   "outputs": [],
   "source": [
    "# 딥러닝 실행 후 테스트 정확도 결과 확인\n",
    "# 클래스 확인\n",
    "# from tensorflow.keras.datasets import fashion_mnist"
   ]
  }
 ],
 "metadata": {
  "kernelspec": {
   "display_name": "py3.8",
   "language": "python",
   "name": "py3.8"
  },
  "language_info": {
   "codemirror_mode": {
    "name": "ipython",
    "version": 3
   },
   "file_extension": ".py",
   "mimetype": "text/x-python",
   "name": "python",
   "nbconvert_exporter": "python",
   "pygments_lexer": "ipython3",
   "version": "3.8.16"
  }
 },
 "nbformat": 4,
 "nbformat_minor": 5
}
