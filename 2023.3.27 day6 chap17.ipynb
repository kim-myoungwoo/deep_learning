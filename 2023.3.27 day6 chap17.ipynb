{
 "cells": [
  {
   "cell_type": "markdown",
   "id": "c9e125b4",
   "metadata": {},
   "source": [
    "# chap 17 딥러닝을 이용한 자연어 처리"
   ]
  },
  {
   "cell_type": "code",
   "execution_count": 4,
   "id": "31286bf5",
   "metadata": {},
   "outputs": [
    {
     "name": "stdout",
     "output_type": "stream",
     "text": [
      "text :  해보지 않으면 해낼 수 없다\n",
      "토큰화 :  ['해보지', '않으면', '해낼', '수', '없다']\n"
     ]
    }
   ],
   "source": [
    "# 모든 문장을 단어로 토큰화\n",
    "from tensorflow.keras.preprocessing.text import text_to_word_sequence\n",
    "\n",
    "text = '해보지 않으면 해낼 수 없다'\n",
    "print(\"text : \", text)\n",
    "\n",
    "print(\"토큰화 : \", text_to_word_sequence(text))  # 단어를 토큰화 시켜 리스트 반환"
   ]
  },
  {
   "cell_type": "code",
   "execution_count": 5,
   "id": "25fa5788",
   "metadata": {},
   "outputs": [],
   "source": [
    "# 토크나이저 클래스를 활용하여 단어를 토큰화 한 다음 단어의 개수를 셀 수 있음\n",
    "from tensorflow.keras.preprocessing.text import Tokenizer\n",
    "\n",
    "docs = ['먼저 텍스트의 각 단어를 나누어 토큰화합니다.',\n",
    "       '텍스트의 단어로 토큰화해야 딥러닝에서 인식됩니다.',\n",
    "       '토큰화한 결과는 딥러닝에서 사용할 수 있습니다.']"
   ]
  },
  {
   "cell_type": "code",
   "execution_count": null,
   "id": "6475832d",
   "metadata": {},
   "outputs": [],
   "source": [
    "token = Tokenizer()      # 토큰화 클래스 intance 생성\n",
    "token.fit_on_texts(docs)  # 토큰화 시킴"
   ]
  },
  {
   "cell_type": "code",
   "execution_count": 11,
   "id": "4e070b00",
   "metadata": {},
   "outputs": [
    {
     "name": "stdout",
     "output_type": "stream",
     "text": [
      "OrderedDict([('먼저', 1), ('텍스트의', 2), ('각', 1), ('단어를', 1), ('나누어', 1), ('토큰화합니다', 1), ('단어로', 1), ('토큰화해야', 1), ('딥러닝에서', 2), ('인식됩니다', 1), ('토큰화한', 1), ('결과는', 1), ('사용할', 1), ('수', 1), ('있습니다', 1)])\n",
      "\n",
      "3\n",
      "\n",
      "defaultdict(<class 'int'>, {'먼저': 1, '토큰화합니다': 1, '텍스트의': 2, '각': 1, '단어를': 1, '나누어': 1, '단어로': 1, '인식됩니다': 1, '딥러닝에서': 2, '토큰화해야': 1, '결과는': 1, '있습니다': 1, '토큰화한': 1, '수': 1, '사용할': 1})\n",
      "\n",
      "{1: '텍스트의', 2: '딥러닝에서', 3: '먼저', 4: '각', 5: '단어를', 6: '나누어', 7: '토큰화합니다', 8: '단어로', 9: '토큰화해야', 10: '인식됩니다', 11: '토큰화한', 12: '결과는', 13: '사용할', 14: '수', 15: '있습니다'}\n"
     ]
    }
   ],
   "source": [
    "print(token.word_counts)   # 토큰화한 각 단어의 출현 빈도 수\n",
    "print()\n",
    "print(token.document_count) # 문장의 수\n",
    "print()\n",
    "print(token.word_docs)   # 단어가 나오는 문장의 수\n",
    "print()\n",
    "print(token.index_word)  # 단어의 인덱스"
   ]
  },
  {
   "cell_type": "code",
   "execution_count": 12,
   "id": "497f4b1f",
   "metadata": {},
   "outputs": [
    {
     "name": "stdout",
     "output_type": "stream",
     "text": [
      "원문 :  ['먼저 텍스트의 각 단어를 나누어 토큰화합니다.', '텍스트의 단어로 토큰화해야 딥러닝에서 인식됩니다.', '토큰화한 결과는 딥러닝에서 사용할 수 있습니다.']\n",
      "먼저  :  1\n",
      "텍스트의  :  2\n",
      "각  :  1\n",
      "단어를  :  1\n",
      "나누어  :  1\n",
      "토큰화합니다.  :  1\n",
      "단어로  :  1\n",
      "토큰화해야  :  1\n",
      "딥러닝에서  :  2\n",
      "인식됩니다.  :  1\n",
      "토큰화한  :  1\n",
      "결과는  :  1\n",
      "사용할  :  1\n",
      "수  :  1\n",
      "있습니다.  :  1\n"
     ]
    }
   ],
   "source": [
    "print('원문 : ',docs)\n",
    "\n",
    "def word_counts(docs):\n",
    "    results = {}\n",
    "    for sentence in docs:\n",
    "        words = sentence.split(' ')\n",
    "        for word in words:\n",
    "            if word in results:\n",
    "                results[word] += 1\n",
    "            else:\n",
    "                results[word] = 1\n",
    "    return results\n",
    "\n",
    "results = word_counts(docs)\n",
    "for word, cnt in results.items():\n",
    "    print(word, ' : ', cnt)"
   ]
  },
  {
   "cell_type": "code",
   "execution_count": 13,
   "id": "8c8cffd1",
   "metadata": {},
   "outputs": [
    {
     "name": "stdout",
     "output_type": "stream",
     "text": [
      "{'오랫동안': 1, '꿈꾸는': 2, '이는': 3, '그': 4, '꿈을': 5, '닮아간다': 6}\n"
     ]
    }
   ],
   "source": [
    "# 단어의 원-핫 인코딩\n",
    "# 1. 문장을 토크나이징\n",
    "# 2. 단어의 인덱스 확인 -> 변수에 추가\n",
    "# 3. 단어의 인덱스를 원-핫 인코딩 -> 인덱스 갯수 + 1 로 to_categorical\n",
    "\n",
    "text= '오랫동안 꿈꾸는 이는 그 꿈을 닮아간다.'\n",
    "\n",
    "token=Tokenizer()\n",
    "token.fit_on_texts([text])   # 문장을 토큰화 함\n",
    "# 단어의 인덱스 확인\n",
    "print(token.word_index)"
   ]
  },
  {
   "cell_type": "code",
   "execution_count": 16,
   "id": "abf9c2b5",
   "metadata": {},
   "outputs": [],
   "source": [
    "x_index = token.texts_to_sequences([text])  # 단어의 인덱스만 리스트로 반환"
   ]
  },
  {
   "cell_type": "code",
   "execution_count": 22,
   "id": "afd669b1",
   "metadata": {},
   "outputs": [
    {
     "data": {
      "text/plain": [
       "array([[[0., 1., 0., 0., 0., 0., 0.],\n",
       "        [0., 0., 1., 0., 0., 0., 0.],\n",
       "        [0., 0., 0., 1., 0., 0., 0.],\n",
       "        [0., 0., 0., 0., 1., 0., 0.],\n",
       "        [0., 0., 0., 0., 0., 1., 0.],\n",
       "        [0., 0., 0., 0., 0., 0., 1.]]], dtype=float32)"
      ]
     },
     "execution_count": 22,
     "metadata": {},
     "output_type": "execute_result"
    }
   ],
   "source": [
    "# x_index에 대해 원-핫 인코딩\n",
    "from tensorflow.keras.utils import to_categorical\n",
    "\n",
    "to_categorical(x_index, num_classes=len(x_index[0])+1)"
   ]
  },
  {
   "cell_type": "code",
   "execution_count": 24,
   "id": "c783df32",
   "metadata": {},
   "outputs": [],
   "source": [
    "## 딥러닝을 활용한 자연어 처리\n",
    "from tensorflow.keras.preprocessing.text import Tokenizer\n",
    "from tensorflow.keras.preprocessing.sequence import pad_sequences\n",
    "from tensorflow.keras.models import Sequential\n",
    "from tensorflow.keras.layers import Dense, Flatten, Embedding\n",
    "from tensorflow.keras.utils import to_categorical\n",
    "\n",
    "import numpy as np"
   ]
  },
  {
   "cell_type": "code",
   "execution_count": 25,
   "id": "cff874d5",
   "metadata": {},
   "outputs": [],
   "source": [
    "# 텍스트 리뷰 자료\n",
    "docs = ['너무 재밌네요.','최고예요.','참 잘 만든 영화예요.','추천하고 싶은 영화입니다.','한 번 더 보고싶네요.',\n",
    "       '글쎄요.','별로예요.','생각보다 지루하네요.','연기가 어색해요.','재미없어요.']\n",
    "\n",
    "# 긍정리뷰는 1, 부정리뷰는 0로 클래스를 지정\n",
    "classes = np.array([1,1,1,1,1,0,0,0,0,0])"
   ]
  },
  {
   "cell_type": "code",
   "execution_count": 26,
   "id": "b6785a8e",
   "metadata": {},
   "outputs": [
    {
     "name": "stdout",
     "output_type": "stream",
     "text": [
      "{'너무': 1, '재밌네요': 2, '최고예요': 3, '참': 4, '잘': 5, '만든': 6, '영화예요': 7, '추천하고': 8, '싶은': 9, '영화입니다': 10, '한': 11, '번': 12, '더': 13, '보고싶네요': 14, '글쎄요': 15, '별로예요': 16, '생각보다': 17, '지루하네요': 18, '연기가': 19, '어색해요': 20, '재미없어요': 21}\n"
     ]
    }
   ],
   "source": [
    "# 자연어 전처리 -> 토큰화\n",
    "token = Tokenizer()\n",
    "token.fit_on_texts(docs)   # 단어의 토큰화 시킴\n",
    "print(token.word_index)"
   ]
  },
  {
   "cell_type": "code",
   "execution_count": 27,
   "id": "4f033048",
   "metadata": {},
   "outputs": [
    {
     "name": "stdout",
     "output_type": "stream",
     "text": [
      "패딩한 결과 출력 :  [[ 0  0  1  2]\n",
      " [ 0  0  0  3]\n",
      " [ 4  5  6  7]\n",
      " [ 0  8  9 10]\n",
      " [11 12 13 14]\n",
      " [ 0  0  0 15]\n",
      " [ 0  0  0 16]\n",
      " [ 0  0 17 18]\n",
      " [ 0  0 19 20]\n",
      " [ 0  0  0 21]]\n"
     ]
    }
   ],
   "source": [
    "# word_index 의 인덱스만 가져옴\n",
    "x = token.texts_to_sequences(docs)   # 단어를 토큰화 하고 인덱스만 가져옴\n",
    "\n",
    "# 서로 다른 길이의 데이터를 padding -> 4로\n",
    "padded_x = pad_sequences(x, 4)\n",
    "print(\"패딩한 결과 출력 : \", padded_x)"
   ]
  },
  {
   "cell_type": "code",
   "execution_count": 29,
   "id": "6611f409",
   "metadata": {},
   "outputs": [
    {
     "name": "stdout",
     "output_type": "stream",
     "text": [
      "Model: \"sequential\"\n",
      "_________________________________________________________________\n",
      " Layer (type)                Output Shape              Param #   \n",
      "=================================================================\n",
      " embedding (Embedding)       (None, 4, 8)              176       \n",
      "                                                                 \n",
      " flatten (Flatten)           (None, 32)                0         \n",
      "                                                                 \n",
      " dense (Dense)               (None, 1)                 33        \n",
      "                                                                 \n",
      "=================================================================\n",
      "Total params: 209\n",
      "Trainable params: 209\n",
      "Non-trainable params: 0\n",
      "_________________________________________________________________\n"
     ]
    }
   ],
   "source": [
    "# 임베딩에 입력된 단어의 수를 지정\n",
    "word_size = len(token.word_index) +1\n",
    "\n",
    "# 단어 임베딩을 포함한 딥러닝 모델 생성\n",
    "model=Sequential()\n",
    "model.add(Embedding(word_size, 8, input_length=4))\n",
    "model.add(Flatten())\n",
    "model.add(Dense(1, activation='sigmoid'))\n",
    "model.summary()"
   ]
  },
  {
   "cell_type": "code",
   "execution_count": 30,
   "id": "964b808a",
   "metadata": {},
   "outputs": [
    {
     "name": "stdout",
     "output_type": "stream",
     "text": [
      "Epoch 1/20\n",
      "1/1 [==============================] - 1s 627ms/step - loss: 0.6982 - accuracy: 0.4000\n",
      "Epoch 2/20\n",
      "1/1 [==============================] - 0s 8ms/step - loss: 0.6957 - accuracy: 0.4000\n",
      "Epoch 3/20\n",
      "1/1 [==============================] - 0s 11ms/step - loss: 0.6931 - accuracy: 0.4000\n",
      "Epoch 4/20\n",
      "1/1 [==============================] - 0s 10ms/step - loss: 0.6906 - accuracy: 0.4000\n",
      "Epoch 5/20\n",
      "1/1 [==============================] - 0s 9ms/step - loss: 0.6881 - accuracy: 0.4000\n",
      "Epoch 6/20\n",
      "1/1 [==============================] - 0s 7ms/step - loss: 0.6856 - accuracy: 0.6000\n",
      "Epoch 7/20\n",
      "1/1 [==============================] - 0s 9ms/step - loss: 0.6831 - accuracy: 0.6000\n",
      "Epoch 8/20\n",
      "1/1 [==============================] - 0s 11ms/step - loss: 0.6807 - accuracy: 0.8000\n",
      "Epoch 9/20\n",
      "1/1 [==============================] - 0s 11ms/step - loss: 0.6782 - accuracy: 0.8000\n",
      "Epoch 10/20\n",
      "1/1 [==============================] - 0s 10ms/step - loss: 0.6758 - accuracy: 0.9000\n",
      "Epoch 11/20\n",
      "1/1 [==============================] - 0s 6ms/step - loss: 0.6733 - accuracy: 1.0000\n",
      "Epoch 12/20\n",
      "1/1 [==============================] - 0s 22ms/step - loss: 0.6709 - accuracy: 1.0000\n",
      "Epoch 13/20\n",
      "1/1 [==============================] - 0s 9ms/step - loss: 0.6684 - accuracy: 1.0000\n",
      "Epoch 14/20\n",
      "1/1 [==============================] - 0s 10ms/step - loss: 0.6660 - accuracy: 1.0000\n",
      "Epoch 15/20\n",
      "1/1 [==============================] - 0s 11ms/step - loss: 0.6636 - accuracy: 1.0000\n",
      "Epoch 16/20\n",
      "1/1 [==============================] - 0s 10ms/step - loss: 0.6611 - accuracy: 1.0000\n",
      "Epoch 17/20\n",
      "1/1 [==============================] - 0s 9ms/step - loss: 0.6587 - accuracy: 1.0000\n",
      "Epoch 18/20\n",
      "1/1 [==============================] - 0s 9ms/step - loss: 0.6562 - accuracy: 1.0000\n",
      "Epoch 19/20\n",
      "1/1 [==============================] - 0s 8ms/step - loss: 0.6538 - accuracy: 1.0000\n",
      "Epoch 20/20\n",
      "1/1 [==============================] - 0s 13ms/step - loss: 0.6513 - accuracy: 1.0000\n"
     ]
    },
    {
     "data": {
      "text/plain": [
       "<keras.callbacks.History at 0x1f461627520>"
      ]
     },
     "execution_count": 30,
     "metadata": {},
     "output_type": "execute_result"
    }
   ],
   "source": [
    "# model 실행 옵션 설정\n",
    "model.compile(loss='binary_crossentropy', optimizer='adam', metrics=['accuracy'])\n",
    "model.fit(padded_x, classes, epochs=20)"
   ]
  },
  {
   "cell_type": "code",
   "execution_count": 32,
   "id": "0d293dd0",
   "metadata": {},
   "outputs": [
    {
     "name": "stdout",
     "output_type": "stream",
     "text": [
      "1/1 [==============================] - 0s 31ms/step - loss: 0.6489 - accuracy: 1.0000\n",
      "Accuracy : 1.000000\n"
     ]
    }
   ],
   "source": [
    "# test 점수 확인\n",
    "print(\"Accuracy : {:4f}\".format(model.evaluate(padded_x, classes)[1]))"
   ]
  },
  {
   "cell_type": "code",
   "execution_count": 39,
   "id": "2ee30ea5",
   "metadata": {},
   "outputs": [
    {
     "name": "stdout",
     "output_type": "stream",
     "text": [
      "1/1 [==============================] - 0s 27ms/step\n"
     ]
    },
    {
     "data": {
      "text/plain": [
       "array([[0.47410575]], dtype=float32)"
      ]
     },
     "execution_count": 39,
     "metadata": {},
     "output_type": "execute_result"
    }
   ],
   "source": [
    "model.predict(padded_x[7].reshape(1,-1))"
   ]
  }
 ],
 "metadata": {
  "kernelspec": {
   "display_name": "py3.8",
   "language": "python",
   "name": "py3.8"
  },
  "language_info": {
   "codemirror_mode": {
    "name": "ipython",
    "version": 3
   },
   "file_extension": ".py",
   "mimetype": "text/x-python",
   "name": "python",
   "nbconvert_exporter": "python",
   "pygments_lexer": "ipython3",
   "version": "3.8.16"
  }
 },
 "nbformat": 4,
 "nbformat_minor": 5
}
